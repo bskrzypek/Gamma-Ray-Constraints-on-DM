{
 "cells": [
  {
   "cell_type": "markdown",
   "metadata": {},
   "source": [
    "# Dark Matter Spectra Reweighted from CRPropa"
   ]
  },
  {
   "cell_type": "code",
   "execution_count": 1,
   "metadata": {},
   "outputs": [],
   "source": [
    "from __future__ import print_function\n",
    "\n",
    "%matplotlib inline\n",
    "%load_ext autoreload\n",
    "%autoreload 2\n",
    "\n",
    "# Load HDMSpectra\n",
    "from HDMSpectra import HDMSpectra\n",
    "\n",
    "import numpy as np\n",
    "#import scipy as sp\n",
    "#import scipy.interpolate as interpolate\n",
    "#import scipy.integrate as integrate\n",
    "#import scipy.stats as stats\n",
    "import matplotlib.pyplot as plt\n",
    "import matplotlib as mpl\n",
    "import scipy.integrate as integrate\n",
    "from scipy.integrate import quad\n",
    "import scipy.stats\n",
    "from scipy.interpolate import interp1d\n",
    "mpl.rcParams['text.usetex'] = True\n",
    "mpl.rcParams['font.family'] = 'serif' \n",
    "mpl.rcParams['xtick.labelsize'] = 26\n",
    "mpl.rcParams['ytick.labelsize'] = 26\n",
    "mpl.rcParams['xtick.major.size'] = 5\n",
    "mpl.rcParams['xtick.minor.size'] = 2.5\n",
    "mpl.rcParams['xtick.major.width'] = 1.0\n",
    "mpl.rcParams['xtick.minor.width'] = 0.75\n",
    "mpl.rcParams['xtick.major.pad'] = 8\n",
    "mpl.rcParams['xtick.direction'] = 'in'\n",
    "mpl.rcParams['ytick.major.size'] = 5\n",
    "mpl.rcParams['ytick.minor.size'] = 2.5\n",
    "mpl.rcParams['ytick.major.width'] = 1.0\n",
    "mpl.rcParams['ytick.minor.width'] = 0.75\n",
    "mpl.rcParams['ytick.major.pad'] = 8\n",
    "mpl.rcParams['ytick.direction'] = 'in'\n",
    "mpl.rcParams['legend.fontsize'] = 26\n",
    "mpl.rcParams['legend.frameon'] = False\n",
    "import seaborn as sns\n",
    "plt.style.use('/Users/barbaraskrzypek/Documents/IceCube/LVNeutrinos/LV/paper.mplstyle')"
   ]
  },
  {
   "cell_type": "markdown",
   "metadata": {},
   "source": [
    "## Dark Matter Spectra "
   ]
  },
  {
   "cell_type": "code",
   "execution_count": 2,
   "metadata": {},
   "outputs": [],
   "source": [
    "data = '/Users/barbaraskrzypek/Documents/IceCube/EBL/HDMSpectra/data/HDMSpectra.hdf5' # location of hdf5 file"
   ]
  },
  {
   "cell_type": "markdown",
   "metadata": {},
   "source": [
    "## CRPropa Spectra "
   ]
  },
  {
   "cell_type": "code",
   "execution_count": 3,
   "metadata": {},
   "outputs": [],
   "source": [
    "file_galactic_ebl = np.genfromtxt(\"PhotonSpectra/crpropa_photon_output_PowerLawCosmologicalEvolution_10_0.1_True_False.txt\")"
   ]
  },
  {
   "cell_type": "code",
   "execution_count": 4,
   "metadata": {},
   "outputs": [],
   "source": [
    "file_galactic_ebl_IC = np.genfromtxt(\"PhotonSpectra/crpropa_photon_output_PowerLawCosmologicalEvolution_10_0.1_True_True.txt\")"
   ]
  },
  {
   "cell_type": "code",
   "execution_count": 17,
   "metadata": {},
   "outputs": [],
   "source": [
    "file_galactic_cmb = np.genfromtxt(\"PhotonSpectra/crpropa_photon_output_PowerLawCosmologicalEvolution_10_0.1_False_False.txt\")"
   ]
  },
  {
   "cell_type": "code",
   "execution_count": null,
   "metadata": {},
   "outputs": [],
   "source": [
    "file_galactic_cmb_IC = np.genfromtxt(\"PhotonSpectra/crpropa_photon_output_PowerLawCosmologicalEvolution_10_0.1_False_True.txt\")"
   ]
  },
  {
   "cell_type": "code",
   "execution_count": null,
   "metadata": {},
   "outputs": [],
   "source": [
    "file_galacticNoIC_ebl = np.genfromtxt(\"PhotonSpectra/crpropa_photon_output_PowerLawCosmologicalEvolution_10_0.1_True_False.txt\")"
   ]
  },
  {
   "cell_type": "code",
   "execution_count": null,
   "metadata": {},
   "outputs": [],
   "source": [
    "file_extragalactic_cmb = np.genfromtxt(\"PhotonSpectra/crpropa_photon_output_PowerLawCosmologicalEvolution_10_10.0_False.txt\")"
   ]
  },
  {
   "cell_type": "code",
   "execution_count": 18,
   "metadata": {},
   "outputs": [],
   "source": [
    "file_extragalactic_ebl = np.genfromtxt(\"PhotonSpectra/crpropa_photon_output_PowerLawCosmologicalEvolution_10_10000.0_True.txt\")"
   ]
  },
  {
   "cell_type": "markdown",
   "metadata": {},
   "source": [
    "## Weights "
   ]
  },
  {
   "cell_type": "markdown",
   "metadata": {},
   "source": [
    "### Galactic Weights\n",
    "\n",
    "To get the galactic spectrum weights, we sum over initial photon positions multiplied by the Navarro-Frenk-White DM density profile in the following way: \n",
    "\n",
    "$$\\frac{d\\phi}{dEd\\Omega} = \\frac{1}{4\\pi m_{DM} \\tau_{DM}}\\frac{dN}{dE_{\\gamma}}\\sum \\Delta s \\times \\rho^{\\text{NFW}}(r(s,l,b)),$$\n",
    "\n",
    "where the NFW profile is defined as \n",
    "\n",
    "$$\\rho^{\\text{NFW}}(r) = \\frac{\\rho_s}{r/r_s\\big(1+r/r_s\\big)^2},$$\n",
    "\n",
    "with $r_s = 24$ kpc and $\\rho_s = 0.18$ GeV/cm$^3$. We propagate galactic photons from 0 to 100 kpc with a cosmological redshift evolution and an initial power law spectrum following \n",
    "\n",
    "$$ \\phi \\propto \\Big(\\frac{E}{E_c}\\Big)^{-1}$$\n",
    "\n",
    "with $E_c = 10^7$ GeV and $E_{\\text{min}} = 100$ GeV. In the function below, we then factorize the weights into two componts:\n",
    "\n",
    "$$\\text{weights} = \\text{weights_position}\\times \\text{weights_energy}$$\n",
    "\n",
    "where weights_position is the sum over the initial photon distances and weights_energy is the contribution from the dark matter number density, depending on energy, along with the factor of one over the initial photon spectrum and the final energy squared:\n",
    "\n",
    "$$\\text{weights_position} =  \\frac{1}{4\\pi m_{DM} \\tau_{DM}} \\sum \\Delta r \\times \\rho(r),$$\n",
    "\n",
    "$$\\text{weights_energy} = \\frac{dN_{DM}}{dE_{\\gamma}}\\Big(\\frac{E_i}{E_c}\\Big)E_f^2$$\n",
    "\n",
    "The product of these weights is then applied to the final spectrum from CRPropa:\n",
    "\n",
    "$$ \\text{reweighted spectrum} = \\text{weights_position}\\times\\text{weights_energy}\\times \\Big(\\frac{dN_f}{dE_{\\gamma}}\\Big)_{\\text{CRPropa}}$$"
   ]
  },
  {
   "cell_type": "code",
   "execution_count": 5,
   "metadata": {},
   "outputs": [],
   "source": [
    "kpcTocm = 3.086*10**21\n",
    "rs = 24 #in kpc \n",
    "R = 8.5 #in kpc \n",
    "phi = np.linspace(0,2*np.pi,32)\n",
    "def weights_galactic(r,mDM,tauDM):\n",
    "    c = (1/(4*(np.pi)*mDM*tauDM))\n",
    "    R_array = R*np.ones(len(phi)-1)\n",
    "    r_array = r*np.ones(len(phi)-1)\n",
    "    radial = (1/(2*np.pi))*np.sum(np.sqrt(r**2+R**2-2*r*R*np.cos(phi))) #galactic coordinate in kpc \n",
    "    f = 0.18/((radial/rs)*(1+radial/rs)**2)\n",
    "    rho = c*f\n",
    "    return rho"
   ]
  },
  {
   "cell_type": "code",
   "execution_count": 6,
   "metadata": {},
   "outputs": [
    {
     "data": {
      "text/plain": [
       "4.872522159452853e-38"
      ]
     },
     "execution_count": 6,
     "metadata": {},
     "output_type": "execute_result"
    }
   ],
   "source": [
    "weights_galactic(10,10**6,10**28)"
   ]
  },
  {
   "cell_type": "markdown",
   "metadata": {},
   "source": [
    "### Extragalactic weights\n",
    "\n",
    "To obtain the extragalactic weights, we similarly sum over initial photon positions starting from 100 kpc. The spectra are calculated in the following way: \n",
    "\n",
    "$$ \\frac{d\\phi}{dE d\\Omega} = \\frac{\\Omega_{DM}\\rho_c}{4\\pi m_{DM}\\tau_{DM}}\\sum \\Delta z \\frac{1}{H(z)}\\frac{dN}{dE^{\\prime}}$$\n",
    "\n",
    "where the critical energy density $\\rho_c = 5.5\\times 10^{-6}$ GeV/cm$^3$ and $E^{\\prime} = E(1+z).$ We start with the same power-law spectrum shown above, with the exception that we propagate over distances of 100 kpc to 10 Mpc. We then facrorize the weights in a similar way to the galactic case: \n",
    "\n",
    "$$\\text{weights} = \\text{weights_position}\\times \\text{weights_energy}$$\n",
    "\n",
    "where weights_position is the sum over the initial photon redshifts and weights_energy is the contribution from the dark matter number density, depending on energy, along with the factor of one over the initial photon spectrum and the final energy squared:\n",
    "\n",
    "$$ \\text{weights_position} =  \\frac{\\Omega_{DM}\\rho_c}{4\\pi m_{DM}\\tau_{DM}}\\sum \\Delta z \\frac{1}{H(z)(1+z)}$$\n",
    "\n",
    "$$ \\text{weights_energy} = \\frac{dN_{DM}}{dE_{\\gamma}}\\Big(\\frac{E_i}{E_c}\\Big)E_f^2$$\n",
    "\n",
    "The product of these weights is then applied to the final spectrum from CRPropa:\n",
    "\n",
    "$$ \\text{reweighted spectrum} = \\text{weights_position}\\times\\text{weights_energy}\\times \\Big(\\frac{dN_f}{dE_{\\gamma}}\\Big)_{\\text{CRPropa}}$$"
   ]
  },
  {
   "cell_type": "code",
   "execution_count": 7,
   "metadata": {},
   "outputs": [],
   "source": [
    "rho_c = 5.5*10**(-6) #in units GeV/cm^3\n",
    "omega_DM = 0.23\n",
    "omega_m = 0.27\n",
    "c = 3*10**5 #in km/s\n",
    "H0 = 67.7 #in (km/s)/(Mpc)\n",
    "def H(z):\n",
    "    h = np.sqrt(omega_m*(1+z)**3+(1-omega_m))\n",
    "    return h\n",
    "def weights_extragalactic(r,mDM,tauDM): \n",
    "    a = (1/(4*(np.pi)*mDM*tauDM)) \n",
    "    z = (H0*r/c)*10**(-3) #converts distance in kpc to redshift \n",
    "    f = (1+z)/(H0*H(z)) \n",
    "    return a*f"
   ]
  },
  {
   "cell_type": "code",
   "execution_count": 8,
   "metadata": {},
   "outputs": [
    {
     "data": {
      "text/plain": [
       "1.17560050605971e-37"
      ]
     },
     "execution_count": 8,
     "metadata": {},
     "output_type": "execute_result"
    }
   ],
   "source": [
    "weights_extragalactic(1000,10**6,10**28)"
   ]
  },
  {
   "cell_type": "code",
   "execution_count": 9,
   "metadata": {},
   "outputs": [
    {
     "data": {
      "text/plain": [
       "9.900000000000001e-05"
      ]
     },
     "execution_count": 9,
     "metadata": {},
     "output_type": "execute_result"
    }
   ],
   "source": [
    "dR_galactic = (0.1-0.001)/1000\n",
    "dR_galactic"
   ]
  },
  {
   "cell_type": "code",
   "execution_count": 82,
   "metadata": {},
   "outputs": [
    {
     "data": {
      "text/plain": [
       "array([1.000000e-04, 9.975180e-02, 1.994036e-01, 2.990554e-01,\n",
       "       3.987072e-01, 4.983590e-01, 5.980108e-01, 6.976626e-01,\n",
       "       7.973144e-01, 8.969662e-01, 9.966180e-01])"
      ]
     },
     "execution_count": 82,
     "metadata": {},
     "output_type": "execute_result"
    }
   ],
   "source": [
    "np.histogram(np.array([xx[3] for xx in file_galactic_ebl if (xx[2] == 22 and xx[5]<=10**-3)])*10**9*10**-6)[1]"
   ]
  },
  {
   "cell_type": "code",
   "execution_count": 27,
   "metadata": {},
   "outputs": [
    {
     "data": {
      "text/plain": [
       "array([1488324.65616083])"
      ]
     },
     "execution_count": 27,
     "metadata": {},
     "output_type": "execute_result"
    }
   ],
   "source": [
    "HDMSpectra.spec(22,5, 10*2/10**6, 10**6, data)"
   ]
  },
  {
   "cell_type": "code",
   "execution_count": 22,
   "metadata": {},
   "outputs": [
    {
     "data": {
      "text/plain": [
       "'/Users/barbaraskrzypek/Documents/IceCube/EBL/HDMSpectra/data/HDMSpectra.hdf5'"
      ]
     },
     "execution_count": 22,
     "metadata": {},
     "output_type": "execute_result"
    }
   ],
   "source": [
    "data"
   ]
  },
  {
   "cell_type": "code",
   "execution_count": null,
   "metadata": {},
   "outputs": [],
   "source": [
    "class Event: \n",
    "    def self.__init__(E0,Z0,[E1,Z1],[E,Z]):\n",
    "        "
   ]
  },
  {
   "cell_type": "markdown",
   "metadata": {},
   "source": [
    "## Make Weights "
   ]
  },
  {
   "cell_type": "code",
   "execution_count": 9,
   "metadata": {},
   "outputs": [],
   "source": [
    "def MakeGalacticWeights(file_galactic,mDM,initial_state,irb = True):\n",
    "    \n",
    "    kpcTocm = 3.086*10**21\n",
    "        \n",
    "    #Photon Energies \n",
    "    \n",
    "    total_events_galactic = np.unique(np.array([xx[5] for xx in file_galactic]))\n",
    "    \n",
    "    photo_energies_initial = np.array([xx[5] for xx in file_galactic if (xx[2] == 22 and xx[5]<=10**-3)])\n",
    "    photo_energies_final = np.array([xx[3] for xx in file_galactic if (xx[2] == 22 and xx[5]<=10**-3)])\n",
    "    photo_positions_initial = np.array([xx[6] for xx in file_galactic if (xx[2] == 22 and xx[5]<=10**-3)])\n",
    "    \n",
    "    #DM Spectrum \n",
    "    \n",
    "    # Specify the particles & parameters \n",
    "    finalstate = 22 # pdg id of the photon\n",
    "    initialstate = initial_state # pdg id of the b-quark\n",
    "    x = np.logspace(1,6,30) # Energy values\n",
    "    R_galactic = np.linspace(0.001,0.1,1000) #initial galactic positions in Mpc\n",
    "    R_extragalactic = np.linspace(0.1,10000,1000) #initial extragalactic positions in Mpc\n",
    "    dR_galactic = (0.1-0.001)/1000\n",
    "    dR_extragalactic = (10000-0.1)/1000\n",
    "    \n",
    "    #energy binning \n",
    "    \n",
    "    lEbins = np.logspace(1,6,30) #logarithmic bins \n",
    "    lEcens = (lEbins[1:] + lEbins[:-1]) / 2 #logarithmic bin centers\n",
    "    dE = lEbins[1:] - lEbins[:-1] #bin widths \n",
    "    \n",
    "    # Extract & reweight the spectrum using HDMSpectra.spec\n",
    "    dNdx = HDMSpectra.spec(finalstate, initialstate, x*2/mDM, mDM, data)\n",
    "    spectrum = dNdx*(2/mDM)\n",
    "    \n",
    "    #weights\n",
    "    photo_energies_initial *= 10**9\n",
    "    photo_energies_final *= 10**9\n",
    "    weights_r = np.ones_like(photo_energies_final)\n",
    "    for i in range(len(R_galactic) - 1):\n",
    "        r = (R_galactic[i]+R_galactic[i+1])/2 #takes the midpoint of each bin\n",
    "        r *= 10e3\n",
    "        delta_r = R_galactic[i+1]-R_galactic[i]\n",
    "        delta_r *= 10e3 #convert Mpc to kpc\n",
    "        #boolean array that selects the events in a given bin\n",
    "        bin_bool = (photo_positions_initial >= R_galactic[i]) & (photo_positions_initial < R_galactic[i+1])\n",
    "        #\n",
    "        photo_positions_initial_bin = photo_positions_initial[bin_bool]\n",
    "        photo_energies_final_bin = photo_energies_final[bin_bool]\n",
    "        weights_final_bin = np.ones_like(photo_energies_final_bin)*weights_galactic(r,mDM,10**28)*delta_r*kpcTocm\n",
    "        weights_r[bin_bool] = weights_final_bin\n",
    "        \n",
    "    weights_energies = np.ones_like(photo_energies_final)\n",
    "    dNdx_galactic = HDMSpectra.spec(finalstate, initialstate, photo_energies_final*2/mDM, mDM, data)[0]\n",
    "    spectrum_galactic = dNdx_galactic*(2/mDM)\n",
    "    weights_energies = spectrum_galactic*photo_energies_initial/(10**7)\n",
    "    \n",
    "    weights_final_galactic = weights_r*weights_energies/len(total_events_galactic)\n",
    "    \n",
    "    return weights_r,weights_energies,weights_final_galactic"
   ]
  },
  {
   "cell_type": "code",
   "execution_count": 10,
   "metadata": {},
   "outputs": [],
   "source": [
    "def MakeExtragalacticWeights(file_extragalactic,mDM,initial_state,irb = True):\n",
    "    \n",
    "    kpcTocm = 3.086*10**21\n",
    "        \n",
    "    #Photon Energies \n",
    "    \n",
    "    total_events_extragalactic = np.unique(np.array([xx[5] for xx in file_extragalactic]))\n",
    "    \n",
    "    photoEG_energies_initial = np.array([xx[5] for xx in file_extragalactic if (xx[2] == 22 and xx[5]<=10**-3)])\n",
    "    photoEG_energies_final = np.array([xx[3] for xx in file_extragalactic if (xx[2] == 22 and xx[5]<=10**-3)])\n",
    "    photoEG_positions_initial = np.array([xx[6] for xx in file_extragalactic if (xx[2] == 22 and xx[5]<=10**-3)])\n",
    "    \n",
    "    #DM Spectrum \n",
    "    \n",
    "    # Specify the particles & parameters \n",
    "    finalstate = 22 # pdg id of the photon\n",
    "    initialstate = initial_state # pdg id of the b-quark\n",
    "    x = np.logspace(1,6,30) # Energy values\n",
    "    R_galactic = np.linspace(0.001,0.1,1000) #initial galactic positions in Mpc\n",
    "    R_extragalactic = np.linspace(0.1,10000,1000) #initial extragalactic positions in Mpc\n",
    "    dR_galactic = (0.1-0.001)/1000\n",
    "    dR_extragalactic = (10000-0.1)/1000\n",
    "    \n",
    "    #energy binning \n",
    "    \n",
    "    lEbins = np.logspace(1,6,30) #logarithmic bins \n",
    "    lEcens = (lEbins[1:] + lEbins[:-1]) / 2 #logarithmic bin centers\n",
    "    dE = lEbins[1:] - lEbins[:-1] #bin widths \n",
    "    \n",
    "    # Extract & reweight the spectrum using HDMSpectra.spec\n",
    "    dNdx = HDMSpectra.spec(finalstate, initialstate, x*2/mDM, mDM, data)\n",
    "    spectrum = dNdx*(2/mDM)\n",
    "    \n",
    "    \n",
    "    weightsEG_r = np.ones_like(photoEG_energies_final)\n",
    "    photoEG_energies_initial *= 10**9\n",
    "    photoEG_energies_final *= 10**9\n",
    "    for i in range(len(R_extragalactic) - 1):\n",
    "        r = (R_extragalactic[i]+R_extragalactic[i+1])/2\n",
    "        r *= 10e3 #converts Mpc to kpc\n",
    "        delta_r = R_extragalactic[i+1]-R_extragalactic[i]\n",
    "        delta_r *= H0/c #converts Mpc to redshift \n",
    "        #boolean array that selects the events in a given bin\n",
    "        bin_bool = (photoEG_positions_initial >= R_extragalactic[i]) & (photoEG_positions_initial < R_extragalactic[i+1])\n",
    "        #\n",
    "        photo_positions_initial_bin = photoEG_positions_initial[bin_bool]\n",
    "        photo_energies_final_bin = photoEG_energies_final[bin_bool]\n",
    "        weights_final_bin = np.ones_like(photo_energies_final_bin)*weights_extragalactic(r,mDM,10**28)*delta_r\n",
    "        weightsEG_r[bin_bool] = weights_final_bin\n",
    "        \n",
    "    weightsEG_energies = np.ones_like(photoEG_energies_final)\n",
    "    dNdx_extragalactic = HDMSpectra.spec(finalstate, initialstate, photoEG_energies_final*2/mDM, mDM, data)[0]\n",
    "    spectrum_extragalactic = dNdx_extragalactic*(2/mDM)\n",
    "    weightsEG_energies = spectrum_extragalactic*photoEG_energies_initial/(10**7)\n",
    "    \n",
    "    weights_final_extragalactic = weightsEG_r*weightsEG_energies/len(total_events_extragalactic)\n",
    "    \n",
    "    return weightsEG_r,weightsEG_energies,weights_final_extragalctic"
   ]
  },
  {
   "cell_type": "code",
   "execution_count": 11,
   "metadata": {},
   "outputs": [],
   "source": [
    "def MakeWeights(file_galactic,file_extragalactic,mDM,initial_state,irb = True):\n",
    "    \n",
    "    kpcTocm = 3.086*10**21\n",
    "        \n",
    "    #Photon Energies \n",
    "    \n",
    "    total_events_galactic = np.unique(np.array([xx[5] for xx in file_galactic]))\n",
    "    total_events_extragalactic = np.unique(np.array([xx[5] for xx in file_extragalactic]))\n",
    "    \n",
    "    photo_energies_initial = np.array([xx[5] for xx in file_galactic if (xx[2] == 22 and xx[5]<=10**-3)])\n",
    "    photo_energies_final = np.array([xx[3] for xx in file_galactic if (xx[2] == 22 and xx[5]<=10**-3)])\n",
    "    photo_positions_initial = np.array([xx[6] for xx in file_galactic if (xx[2] == 22 and xx[5]<=10**-3)])\n",
    "    \n",
    "    photoEG_energies_initial = np.array([xx[5] for xx in file_extragalactic if (xx[2] == 22 and xx[5]<=10**-3)])\n",
    "    photoEG_energies_final = np.array([xx[3] for xx in file_extragalactic if (xx[2] == 22 and xx[5]<=10**-3)])\n",
    "    photoEG_positions_initial = np.array([xx[6] for xx in file_extragalactic if (xx[2] == 22 and xx[5]<=10**-3)])\n",
    "    \n",
    "    #DM Spectrum \n",
    "    \n",
    "    # Specify the particles & parameters \n",
    "    finalstate = 22 # pdg id of the photon\n",
    "    initialstate = initial_state # pdg id of the b-quark\n",
    "    x = np.logspace(1,6,30) # Energy values\n",
    "    R_galactic = np.linspace(0.001,0.1,1000) #initial galactic positions in Mpc\n",
    "    R_extragalactic = np.linspace(0.1,10000,1000) #initial extragalactic positions in Mpc\n",
    "    dR_galactic = (0.1-0.001)/1000\n",
    "    dR_extragalactic = (10000-0.1)/1000\n",
    "    \n",
    "    #energy binning \n",
    "    \n",
    "    lEbins = np.logspace(1,6,30) #logarithmic bins \n",
    "    lEcens = (lEbins[1:] + lEbins[:-1]) / 2 #logarithmic bin centers\n",
    "    dE = lEbins[1:] - lEbins[:-1] #bin widths \n",
    "    \n",
    "    # Extract & reweight the spectrum using HDMSpectra.spec\n",
    "    dNdx = HDMSpectra.spec(finalstate, initialstate, x*2/mDM, mDM, data)\n",
    "    spectrum = dNdx*(2/mDM)\n",
    "    \n",
    "    #weights\n",
    "    photo_energies_initial *= 10**9\n",
    "    photo_energies_final *= 10**9\n",
    "    weights_r = np.ones_like(photo_energies_final)\n",
    "    for i in range(len(R_galactic) - 1):\n",
    "        r = (R_galactic[i]+R_galactic[i+1])/2 #takes the midpoint of each bin\n",
    "        r *= 10e3\n",
    "        delta_r = R_galactic[i+1]-R_galactic[i]\n",
    "        delta_r *= 10e3 #convert Mpc to kpc\n",
    "        #boolean array that selects the events in a given bin\n",
    "        bin_bool = (photo_positions_initial >= R_galactic[i]) & (photo_positions_initial < R_galactic[i+1])\n",
    "        #\n",
    "        photo_positions_initial_bin = photo_positions_initial[bin_bool]\n",
    "        photo_energies_final_bin = photo_energies_final[bin_bool]\n",
    "        weights_final_bin = np.ones_like(photo_energies_final_bin)*weights_galactic(r,mDM,10**28)*delta_r*kpcTocm\n",
    "        weights_r[bin_bool] = weights_final_bin\n",
    "    \n",
    "    weightsEG_r = np.ones_like(photoEG_energies_final)\n",
    "    photoEG_energies_initial *= 10**9\n",
    "    photoEG_energies_final *= 10**9\n",
    "    for i in range(len(R_extragalactic) - 1):\n",
    "        r = (R_extragalactic[i]+R_extragalactic[i+1])/2\n",
    "        r *= 10e3 #converts Mpc to kpc\n",
    "        delta_r = R_extragalactic[i+1]-R_extragalactic[i]\n",
    "        delta_r *= H0/c #converts Mpc to redshift \n",
    "        #boolean array that selects the events in a given bin\n",
    "        bin_bool = (photoEG_positions_initial >= R_extragalactic[i]) & (photoEG_positions_initial < R_extragalactic[i+1])\n",
    "        #\n",
    "        photo_positions_initial_bin = photoEG_positions_initial[bin_bool]\n",
    "        photo_energies_final_bin = photoEG_energies_final[bin_bool]\n",
    "        weights_final_bin = np.ones_like(photo_energies_final_bin)*weights_extragalactic(r,mDM,10**28)*delta_r\n",
    "        weightsEG_r[bin_bool] = weights_final_bin\n",
    "        \n",
    "    weights_energies = np.ones_like(photo_energies_final)\n",
    "    dNdx_galactic = HDMSpectra.spec(finalstate, initialstate, photo_energies_final*2/mDM, mDM, data)[0]\n",
    "    spectrum_galactic = dNdx_galactic*(2/mDM)\n",
    "    weights_energies = spectrum_galactic*photo_energies_initial/(10**7)\n",
    "    #for i in range(len(lEcens) - 1):\n",
    "        #boolean array that selects the events in a given bin\n",
    "    #    bin_bool = (photo_energies_final >= lEcens[i]) & (photo_energies_final < lEcens[i+1])\n",
    "        #\n",
    "    #    photo_energies_final_bin = photo_energies_final[bin_bool]\n",
    "    #    photo_energies_initial_bin = photo_energies_initial[bin_bool]\n",
    "    #    weights_final_bin = np.ones_like(photo_energies_final_bin)*(spectrum[i])*((photo_energies_initial_bin/(10**7))**(1))\n",
    "    #    weights_energies[bin_bool] = weights_final_bin\n",
    "        \n",
    "    weightsEG_energies = np.ones_like(photoEG_energies_final)\n",
    "    dNdx_extragalactic = HDMSpectra.spec(finalstate, initialstate, photoEG_energies_final*2/mDM, mDM, data)[0]\n",
    "    spectrum_extragalactic = dNdx_extragalactic*(2/mDM)\n",
    "    weightsEG_energies = spectrum_extragalactic*photoEG_energies_initial/(10**7)\n",
    "    #for i in range(len(lEcens) - 1):\n",
    "        #boolean array that selects the events in a given bin\n",
    "    #    bin_bool = (photoEG_energies_final >= lEcens[i]) & (photoEG_energies_final < lEcens[i+1])\n",
    "        #\n",
    "    #    photo_energies_final_bin = photoEG_energies_final[bin_bool]\n",
    "    #    photo_energies_initial_bin = photoEG_energies_initial[bin_bool]\n",
    "    #    weightsEG_final_bin = np.ones_like(photo_energies_final_bin)*(spectrum[i])*((photo_energies_initial_bin/(10**7))**(1))\n",
    "    #    weightsEG_energies[bin_bool] = weightsEG_final_bin\n",
    "        \n",
    "    \n",
    "    weights_final_galactic = weights_r*weights_energies/len(total_events_galactic)\n",
    "    weights_final_extragalactic = weightsEG_r*weightsEG_energies/len(total_events_extragalactic)\n",
    "    \n",
    "    return weights_r,weightsEG_r,weights_energies,weightsEG_energies,weights_final_galactic,weights_final_extragalactic;"
   ]
  },
  {
   "cell_type": "markdown",
   "metadata": {},
   "source": [
    "## Plots "
   ]
  },
  {
   "cell_type": "markdown",
   "metadata": {},
   "source": [
    "### Initial & Attenuated Spectra from CRPropa"
   ]
  },
  {
   "cell_type": "code",
   "execution_count": 13,
   "metadata": {},
   "outputs": [
    {
     "ename": "NameError",
     "evalue": "name 'lEbins' is not defined",
     "output_type": "error",
     "traceback": [
      "\u001b[0;31m--------------------------------------------------------------\u001b[0m",
      "\u001b[0;31mNameError\u001b[0m                    Traceback (most recent call last)",
      "\u001b[0;32m<ipython-input-13-15288a876a4b>\u001b[0m in \u001b[0;36m<module>\u001b[0;34m\u001b[0m\n\u001b[0;32m----> 1\u001b[0;31m \u001b[0mlEbins\u001b[0m\u001b[0;34m\u001b[0m\u001b[0;34m\u001b[0m\u001b[0m\n\u001b[0m",
      "\u001b[0;31mNameError\u001b[0m: name 'lEbins' is not defined"
     ]
    }
   ],
   "source": [
    "lEbins"
   ]
  },
  {
   "cell_type": "code",
   "execution_count": 14,
   "metadata": {},
   "outputs": [
    {
     "data": {
      "text/plain": [
       "array([2.66380173e+01, 3.37338570e+01, 4.27198877e+01, 5.40996188e+01,\n",
       "       6.85106847e+01, 8.67605727e+01, 1.09871869e+02, 1.39139557e+02,\n",
       "       1.76203576e+02, 2.23140715e+02, 2.82580977e+02, 3.57854947e+02,\n",
       "       4.53180410e+02, 5.73898686e+02, 7.26773918e+02, 9.20372080e+02,\n",
       "       1.16554095e+03, 1.47601796e+03, 1.86919988e+03, 2.36711766e+03,\n",
       "       2.99767088e+03, 3.79619097e+03, 4.80742097e+03, 6.08802261e+03,\n",
       "       7.70975112e+03, 9.76347597e+03, 1.23642724e+04, 1.56578694e+04,\n",
       "       1.98288154e+04, 2.51108187e+04, 3.17998429e+04, 4.02706906e+04,\n",
       "       5.09980041e+04, 6.45828613e+04, 8.17864551e+04, 1.03572745e+05,\n",
       "       1.31162471e+05, 1.66101553e+05, 2.10347713e+05])"
      ]
     },
     "execution_count": 14,
     "metadata": {},
     "output_type": "execute_result"
    }
   ],
   "source": [
    "lEbins = np.logspace(2,6,40)\n",
    "dE = lEbins[1:] - lEbins[:-1]\n",
    "dE"
   ]
  },
  {
   "cell_type": "code",
   "execution_count": 15,
   "metadata": {},
   "outputs": [],
   "source": [
    "#makes a plot showing the initial and attenuated spectra from CRPropa\n",
    "\n",
    "def MakeInjPlot(file,file2,gamma,irb = True,extrgalactic = True): \n",
    "    \n",
    "    if irb == True: \n",
    "        string = \"CMB and IRB\"\n",
    "    else: string = \"CMB Only\"\n",
    "    \n",
    "    #energies\n",
    "    \n",
    "    photo_energies_initial = np.unique(np.array([xx[5] for xx in file]))\n",
    "    photo_energies_initial_all = np.array([xx[5] for xx in file])\n",
    "    photo_energies_final = np.array([xx[3] for xx in file if xx[2] == 22])\n",
    "    photo_energies_prompt = np.array([xx[3] for xx in file if ((xx[2]==22) and (xx[3]==xx[5]))])\n",
    "    photo_energies_secondary = np.array([xx[3] for xx in file if ((xx[2]==22) and (xx[3]!=xx[5]))])\n",
    "    \n",
    "    photo_energies_IC = np.array([xx[3] for xx in file2 if xx[2] == 22])\n",
    "    \n",
    "    electron_energies_initial = np.unique(np.array([xx[5] for xx in file2]))\n",
    "    \n",
    "    print(np.shape(photo_energies_secondary))\n",
    "    print(np.shape(electron_energies_initial))\n",
    "    \n",
    "    #energy binning: \n",
    "    \n",
    "    lEbins = np.logspace(2,6,40) #logarithmic bins \n",
    "    lEcens = (lEbins[1:] + lEbins[:-1]) / 2 #logarithmic bin centers\n",
    "    dE = lEbins[1:] - lEbins[:-1] #bin widths \n",
    "    \n",
    "    Ebins =  np.linspace(1e2,1e6,100)\n",
    "    Ecens = (Ebins[1:] + Ebins[:-1]) / 2\n",
    "    dE_lin = Ebins[1:] - Ebins[:-1]\n",
    "    \n",
    "    #integral check:\n",
    "    \n",
    "    #dE_hist = np.histogram(Ecens,bins = Ebins, weights = dE_lin)[0]\n",
    "    \n",
    "    hist_initial = np.histogram(photo_energies_initial*10**9, bins=Ebins,weights = (photo_energies_initial*10**9))[0]/dE_lin\n",
    "    hist_prompt = np.histogram(photo_energies_prompt*10**9,bins = Ebins, weights = (photo_energies_prompt*10**9))[0]/dE_lin\n",
    "    hist_secondary = np.histogram(photo_energies_secondary*10**9,bins = Ebins, weights = (photo_energies_secondary*10**9))[0]/dE_lin\n",
    "\n",
    "    #ratio_initial = hist_initial/dE_hist\n",
    "    #ratio_prompt = hist_prompt/dE_hist\n",
    "    #ratio_secondary = hist_secondary/dE_hist\n",
    "    \n",
    "    #integrand_initial = np.histogram(Ecens,bins = Ebins,weights = ratio_initial)\n",
    "    #integrand_prompt = np.histogram(Ecens,bins = Ebins, weights = ratio_prompt)\n",
    "    #integrand_secondary = np.histogram(Ecens, bins = Ebins, weights = ratio_secondary)\n",
    "    \n",
    "    #hist_dist_initial = scipy.stats.rv_histogram(integrand_initial)\n",
    "    #hist_dist_prompt = scipy.stats.rv_histogram(integrand_prompt)\n",
    "    #hist_dist_secondary = scipy.stats.rv_histogram(integrand_secondary) \n",
    "    \n",
    "    #integral_initial = hist_dist_initial.cdf(np.max(photo_energies_initial*10**9))\n",
    "    #integral_prompt = hist_dist_prompt.cdf(np.max(photo_energies_prompt*10**9))\n",
    "    #integral_secondary = hist_dist_secondary.cdf(np.max(photo_energies_secondary*10**9))\n",
    "    \n",
    "    integral_initial = np.sum(hist_initial)\n",
    "    integral_prompt = np.sum(hist_prompt)\n",
    "    integral_secondary = np.sum(hist_secondary)\n",
    "    \n",
    "    print(\"Total energy conservation check:\")\n",
    "    print(\"Total primary energy = \" + f'{integral_initial}')\n",
    "    print(\"Prompt energy + Secondary energy = \" + f'{integral_prompt+integral_secondary}')\n",
    "    \n",
    "    # calculate spectrum: J(E) = dN/dE\n",
    "    \n",
    "    J_initial = np.histogram(photo_energies_initial*10**9, bins=lEbins,weights = (photo_energies_initial*10**9)**2)[0]/ dE\n",
    "    J_final = np.histogram(photo_energies_final*10**(9), bins=lEbins,weights = (photo_energies_final*10**9)**2)[0] / dE\n",
    "    J_prompt = np.histogram(photo_energies_prompt*10**9,bins = lEbins, weights = (photo_energies_prompt*10**9)**2)[0] / dE\n",
    "    J_secondary = np.histogram(photo_energies_secondary*10**9,bins = lEbins, weights = (photo_energies_secondary*10**9)**2)[0] / dE\n",
    "    \n",
    "    J_IC = np.histogram(photo_energies_IC*10**9,bins = lEbins, weights = (photo_energies_IC*10**9)**2)[0] / dE\n",
    "    \n",
    "    J_electrons = np.histogram(electron_energies_initial*10**9,bins = lEbins, weights = (electron_energies_initial*10**9)**2)[0] / dE\n",
    "    \n",
    "    # make the figure \n",
    "    \n",
    "    fig = plt.figure(figsize=(7,6))\n",
    "    cm = mpl.pyplot.get_cmap('RdPu')\n",
    "    cm2 = mpl.pyplot.get_cmap('Blues')\n",
    "    color_min = 0.1\n",
    "    color_max = 0.9\n",
    "    color_range = color_max-color_min\n",
    "    colors = [cm(color_range*i/(14-1)+color_min) for i in range(14)]\n",
    "    colors2 = [cm2(color_range*i/(14-1)+color_min) for i in range(14)]\n",
    "    \n",
    "    plt.hist(lEcens,weights = J_initial,bins = np.logspace(2,6,40),histtype=\"step\", lw = 2, density = False, color = colors[4],label = r\"$\\gamma =$ {gamma} Initial\".format(gamma = gamma))\n",
    "    plt.hist(lEcens,weights = J_electrons,bins = np.logspace(2,6,40),histtype=\"step\", lw = 2, density = False, color = colors2[6],label = r\"$\\gamma =$ {gamma} Initial (electrons)\".format(gamma = gamma),ls = '--')\n",
    "    plt.hist(lEcens,weights = J_prompt,bins = np.logspace(2,6,40),histtype=\"step\", lw = 2, density = False, color = colors[8],label = r\"$\\gamma =$ {gamma} Prompt\".format(gamma = gamma),ls = '--')\n",
    "    plt.hist(lEcens,weights = J_secondary,bins = np.logspace(2,6,40),histtype = \"step\",lw = 2,density = False, color = colors[10],label = r\"$\\gamma = ${gamma} Secondary\".format(gamma = gamma))\n",
    "    plt.hist(lEcens,weights = J_IC,bins = np.logspace(2,6,40),histtype = \"step\",lw = 2,density = False, color = colors2[12],label = r\"$\\gamma = ${gamma} IC\".format(gamma = gamma))\n",
    "    #plt.hist(photo_energies_initial*10**(9), bins = np.logspace(2,6,40),\n",
    "    #plt.hist(photo_energies_initial*10**(9), bins = np.logspace(2,6,40),\n",
    "    #         histtype=\"step\", lw = 2, density = True, color = colors[3],label = r\"$\\gamma =$ {gamma} initial\".format(gamma = gamma),weights = (photo_energies_initial*10**9)**2)\n",
    "    #y = np.histogram(photo_energies_original*10**(9), bins = np.logspace(2,6,36), density = False, weights = photo_energies_original*10**9**2)\n",
    "    #plt.hist(photo_energies_final*10**9, bins = np.logspace(2,6,40),\n",
    "    #         histtype=\"step\", lw = 2, density = True, color = colors[5],label = r\"$\\gamma =$ {gamma} (final)\".format(gamma = gamma),weights = (photo_energies_final*10**9)**2)\n",
    "\n",
    "    plt.legend(bbox_to_anchor=(.90, .95), loc='upper left', borderaxespad=0.,frameon = True,shadow = True)\n",
    "    #plt.ylim(10**21,10**26)\n",
    "    plt.semilogy()\n",
    "    plt.semilogx()\n",
    "    plt.xlim(1e2,1e7)\n",
    "    #plt.ylim(1e2,1e6)\n",
    "    plt.xlabel(r\"$E_\\gamma$/GeV\",fontsize = 16)\n",
    "    plt.ylabel(r\"$E^2 dN/dE$\",fontsize = 16)\n",
    "    plt.title(string,fontsize = 20)\n",
    "    plt.savefig(\"/Users/barbaraskrzypek/Documents/PowerLawSpectraInj_{gamma1}.pdf\".format(gamma1=extrgalactic),dpi = 400,bbox_inches = \"tight\")\n",
    "    \n",
    "    #return rw"
   ]
  },
  {
   "cell_type": "code",
   "execution_count": 16,
   "metadata": {},
   "outputs": [
    {
     "name": "stdout",
     "output_type": "stream",
     "text": [
      "(778901,)\n",
      "(5852,)\n",
      "Total energy conservation check:\n",
      "Total primary energy = 71059.69304019804\n",
      "Prompt energy + Secondary energy = 149053.53049584158\n"
     ]
    },
    {
     "data": {
      "image/png": "[encoded data removed]",
      "text/plain": [
       "<Figure size 504x432 with 1 Axes>"
      ]
     },
     "metadata": {
      "needs_background": "light"
     },
     "output_type": "display_data"
    }
   ],
   "source": [
    "MakeInjPlot(file_galactic_ebl,file_galactic_ebl_IC,-1,True,False)"
   ]
  },
  {
   "cell_type": "code",
   "execution_count": 18,
   "metadata": {},
   "outputs": [
    {
     "name": "stdout",
     "output_type": "stream",
     "text": [
      "(4380254,)\n",
      "(5852,)\n",
      "Total energy conservation check:\n",
      "Total primary energy = 6893.498779108912\n",
      "Prompt energy + Secondary energy = 108674.2661680198\n"
     ]
    },
    {
     "data": {
      "image/png": "[encoded data removed]",
      "text/plain": [
       "<Figure size 504x432 with 1 Axes>"
      ]
     },
     "metadata": {
      "needs_background": "light"
     },
     "output_type": "display_data"
    }
   ],
   "source": [
    "MakeInjPlot(file_galactic_cmb,file_galactic_ebl_IC,-1,False,False)"
   ]
  },
  {
   "cell_type": "code",
   "execution_count": 8,
   "metadata": {},
   "outputs": [],
   "source": [
    "def Make2DPowerLawPlot(file,gamma,irb = True):\n",
    "    plt.figure(figsize=(7,6))\n",
    "\n",
    "    xedges = np.logspace(2,6,36)\n",
    "    yedges = np.logspace(2,6,36)\n",
    "    \n",
    "    lEbins = np.logspace(2,6,25) #logarithmic bins \n",
    "    lEcens = (lEbins[1:] + lEbins[:-1]) / 2 #logarithmic bin centers\n",
    "    dEs = lEbins[1:] - lEbins[:-1] #bin widths \n",
    "\n",
    "    photo_energies_initial = np.array([xx[5] for xx in file if xx[2] == 22])\n",
    "    photo_energies_final = np.array([xx[3] for xx in file if xx[2] == 22])\n",
    "    \n",
    "    # calculate spectrum: J(E) = dN/dE\n",
    "    \n",
    "    #J_initial = np.histogram(photo_energies_initial*10**9, bins=lEbins)[0]/ dEs\n",
    "    #J_final = np.histogram(photo_energies_final*10**(9), bins=lEbins)[0] / dEs\n",
    "    \n",
    "    #weights_final = np.hstack([J_final*(lEcens)**2]*100) \n",
    "    #weights_initial = np.hstack([[ee for _ in range(100)] for ee in J_initial*(lEcens)**2])    \n",
    "\n",
    "    weights_initial = np.zeros_like(photo_energies_initial)\n",
    "    photo_energies_initial *= 10**9\n",
    "    photo_energies_final *= 10**9\n",
    "    #print(lEbins)\n",
    "    for i in range(len(lEbins) - 1):\n",
    "        #print(photo_energies_initial < lEbins[i+1])\n",
    "        bin_bool = (photo_energies_initial >= lEbins[i]) & (photo_energies_initial < lEbins[i+1])\n",
    "        #print(bin_bool.sum())\n",
    "        photo_energies_initial_bin = photo_energies_initial[bin_bool]\n",
    "        weights_initial_bin = np.ones_like(photo_energies_initial_bin)/ len(photo_energies_initial_bin)\n",
    "        weights_initial[bin_bool] = weights_initial_bin\n",
    "        #print(weights_initial.sum())  \n",
    "     \n",
    "    fig, ax = plt.subplots()\n",
    "    \n",
    "    #print(np.shape(photo_energies_initial))\n",
    "    h = np.histogram2d(photo_energies_initial,photo_energies_final,bins = [lEbins,lEbins])#, density=True)\n",
    "    \n",
    "    im = ax.imshow(h[0],extent = [4,6,2,6],aspect = 'auto',cmap = 'RdPu')\n",
    "    #fig, ax = plt.subplots()\n",
    "    \n",
    "    #im = ax.imshow(hist[0],extent = [1e2,1e6,1e2,1e6],aspect = 'auto', cmap = \"RdPu\")\n",
    "    \n",
    "    e_tick_locs = [2,3,4,5,6]\n",
    "    e_tick_labs = [r'$10^{%d}$' % exp for exp in e_tick_locs]\n",
    "    ax.set_yticks(e_tick_locs)\n",
    "    ax.set_yticklabels(e_tick_labs)\n",
    "    \n",
    "    #cbar_tick_locs = [5,6,7,8]\n",
    "    #cbar_tick_labs = [r'$10^{%d}$' % exp for exp in cbar_tick_locs]\n",
    "    cbar = fig.colorbar(im,\n",
    "                    label=r'$N_{\\rm{event}}$'\n",
    "                   )\n",
    "    #cbar.ax.set_yticklabels(cbar_tick_labs)\n",
    "    \n",
    "\n",
    "    #plt.semilogx()\n",
    "    #plt.semilogy()\n",
    "    #plt.xlim(1e4,1e6)\n",
    "    #if(irb):\n",
    "    #    plt.ylim(1e2,1e6)\n",
    "    #else:\n",
    "    #    plt.ylim(1e2,1e6)\n",
    "    plt.xlabel(r\"$E_{\\gamma,initial}$/GeV\")\n",
    "    plt.ylabel(r\"$E_{\\gamma,final}$/GeV\")\n",
    "\n",
    "    #cbar = plt.colorbar()\n",
    "    #plt.clim(0.0,0.01)\n",
    "    cbar.set_label(r\"dN/dE\")\n",
    "    plt.title(\"Power Law Spectrum with $\\gamma =$ {gamma}, EBL = {irb}\".format(gamma = gamma,irb = irb),fontsize = 16)\n",
    "    plt.savefig(\"/Users/barbaraskrzypek/Documents/PowerLawSpectrum2d_{irb}_{gamma}.pdf\".format(irb = irb,gamma=-gamma*10),dpi = 400,bbox_inches = \"tight\")\n",
    "    plt.show()"
   ]
  },
  {
   "cell_type": "markdown",
   "metadata": {},
   "source": [
    "### Fermi-LAT and IceCube data "
   ]
  },
  {
   "cell_type": "code",
   "execution_count": 68,
   "metadata": {},
   "outputs": [],
   "source": [
    "# FERMI PART\n",
    "fermi = np.genfromtxt(\"./modelA_integrated_fluxes.txt\")\n",
    "e_fermi_GeV = (fermi[:,0] + fermi[:,1])*1.0e-3/2.\n",
    "upper_limits = [False]*len(e_fermi_GeV)"
   ]
  },
  {
   "cell_type": "code",
   "execution_count": 69,
   "metadata": {},
   "outputs": [],
   "source": [
    "bins = np.logspace(np.log10(19952.6), np.log10(3.16228e8), 14) \n",
    "bins = bins[1:9]\n",
    "enu = np.logspace(np.log10(bins[0]), 8, 500)\n",
    "# Plot the segmented powerlaw flux\n",
    "def flux(energy, norm, index=2.):\n",
    "    energyIn100TeV = energy/1e5\n",
    "    return norm*1e-18*(energyIn100TeV)**(-index)\n",
    "xmin = bins[0]\n",
    "xmax = bins[-1]\n",
    "energy_centers = np.power(10, (lambda x: (x[:-1]+x[1:])/2.)(np.log10(bins)))\n",
    "intervals = np.array([(0.0, 143.54622664666903, 500.0), (0.0, 2.123691768833845, 5.635437314697244), (4.948055179047638, 6.382657005897758, 8.002066239102458), (0.0, 0.5177890921151547, 1.553873383727041), (0.0, 0.2634178446276476, 1.1728578975033623), (0.9183994046204971, 1.8237591302698424, 3.046362634593988), (0.0, 0.486221306109142, 1.570990230774263), (0.0, 0.0, 0.1869868977346414), (0.0, 0.0, 1.6417124479048653), (0.0, 122.96672124580368, 500.0), (0.0, 80.46916717685278, 500.0), (0.0, 224.50607289774382, 500.0), (0.0, 126.68963542182684, 500.0)])[1:8]\n",
    "intervals = flux(energy_centers[:,None], intervals, 2.)*((energy_centers**2.0)[:,None])\n",
    "y = np.array([x[1] for x in intervals])\n",
    "q_low = np.array([q_low for q_low, _, _ in intervals])\n",
    "q_high = np.array([q_high for _, _, q_high in intervals])\n",
    "q_max= np.array([q_max for _, q_max, _ in intervals])\n",
    "y_low = q_max-q_low\n",
    "y_high = q_high-q_max\n",
    "yerr = np.array([y_low, y_high])\n",
    "xerr = np.array([energy_centers-bins[:-1], bins[1:]-energy_centers])"
   ]
  },
  {
   "cell_type": "markdown",
   "metadata": {},
   "source": [
    "### Weight Plots "
   ]
  },
  {
   "cell_type": "code",
   "execution_count": 11,
   "metadata": {},
   "outputs": [],
   "source": [
    "def MakeWeightsHistPlot(weights,mDM,initial_state,bins,galactic = True):\n",
    "    \n",
    "    kpcTocm = 3.086*10**21\n",
    "    \n",
    "    if galactic == True:\n",
    "        string = \"Extragalactic\"\n",
    "    else: string = \"Galactic\"\n",
    "        \n",
    "    #particle ID:\n",
    "    if initial_state == 5:\n",
    "        state = r\"$b\\bar{b}$\"\n",
    "    if initial_state == 15:\n",
    "        state = r\"$\\tau^{+}\\tau^{-}$\"\n",
    "    if initial_state == 24:\n",
    "        state = r\"$W^{+}W^{-}$\"\n",
    "    if initial_state == 13:\n",
    "        state = r\"$\\mu^{+}\\mu^{-}$\"\n",
    "       \n",
    "    #Plots: \n",
    "    \n",
    "    fig = plt.figure(figsize=(7,6))\n",
    "    cm = mpl.pyplot.get_cmap('RdPu')\n",
    "    color_min = 0.1\n",
    "    color_max = 0.9\n",
    "    color_range = color_max-color_min\n",
    "    colors = [cm(color_range*i/(8-1)+color_min) for i in range(8)]\n",
    "    \n",
    "    plt.hist(weights,bins = bins,\n",
    "             histtype=\"step\", lw = 2, density = False, color = colors[3],label = r\"Weights (galactic)\")\n",
    "    #plt.hist(weights_final_extragalctic,\n",
    "    #         histtype=\"step\", lw = 2, density = False, color = colors[5],label = r\"Weights (extragalactic)\",weights = weights_final_extragalactic)\n",
    "    \n",
    "    plt.legend(bbox_to_anchor=(.90, .95), loc='upper left', borderaxespad=0.,frameon = True,shadow = True)\n",
    "    #plt.ylim(10**21,10**26)\n",
    "    plt.semilogy()\n",
    "    plt.semilogx()\n",
    "    #plt.xlim(1e2,1e7)\n",
    "    #plt.ylim(0,1e-19)\n",
    "    #plt.ylim(1e2,1e6)\n",
    "    plt.xlabel(r\"$E_\\gamma$/GeV\",fontsize = 16)\n",
    "    plt.ylabel(r\"N($w_{\\rm total}$)\",fontsize = 16)\n",
    "    plt.title(string+r\", DM Weights for $\\chi \\rightarrow$\"+state,fontsize = 18)\n",
    "    plt.savefig(\"/Users/barbaraskrzypek/Documents/DMWeightsHist_{particle}_{irb}.pdf\".format(particle = initial_state,irb = galactic),dpi = 400,bbox_inches = \"tight\")"
   ]
  },
  {
   "cell_type": "code",
   "execution_count": 12,
   "metadata": {},
   "outputs": [],
   "source": [
    "def MakeWeightsPlot(file_galactic,file_extragalactic,weights_final_galactic,weights_final_extragalactic,mDM,initial_state,irb = True):\n",
    "    \n",
    "    kpcTocm = 3.086*10**21\n",
    "    \n",
    "    if irb == True:\n",
    "        string = \"CMB and EBL\"\n",
    "    else: string = \"CMB Only\"\n",
    "        \n",
    "    #particle ID:\n",
    "    if initial_state == 5:\n",
    "        state = r\"$b\\bar{b}$\"\n",
    "    if initial_state == 15:\n",
    "        state = r\"$\\tau^{+}\\tau^{-}$\"\n",
    "    if initial_state == 24:\n",
    "        state = r\"$W^{+}W^{-}$\"\n",
    "    if initial_state == 13:\n",
    "        state = r\"$\\mu^{+}\\mu^{-}$\"\n",
    "        \n",
    "    #Photon energies\n",
    "    \n",
    "    photo_energies_initial = np.array([xx[5] for xx in file_galactic if xx[2] == 22])*10**9\n",
    "    photo_energies_final = np.array([xx[3] for xx in file_galactic if xx[2] == 22])*10**9\n",
    "    photo_positions_initial = np.array([xx[6] for xx in file_galactic if xx[2] == 22])\n",
    "    \n",
    "    photoEG_energies_initial = np.array([xx[5] for xx in file_extragalactic if xx[2] == 22])*10**9\n",
    "    photoEG_energies_final = np.array([xx[3] for xx in file_extragalactic if xx[2] == 22])*10**9\n",
    "    photoEG_positions_initial = np.array([xx[6] for xx in file_extragalactic if xx[2] == 22])\n",
    "    \n",
    "    # Specify the particles & parameters \n",
    "    finalstate = 22 # pdg id of the photon\n",
    "    initialstate = initial_state # pdg id of the b-quark\n",
    "    x = np.logspace(1,6,30) # Energy values\n",
    "    \n",
    "    #energy binning \n",
    "    \n",
    "    lEbins = np.logspace(1,6,30) #logarithmic bins \n",
    "    lEcens = (lEbins[1:] + lEbins[:-1]) / 2 #logarithmic bin centers\n",
    "    dE = lEbins[1:] - lEbins[:-1] #bin widths \n",
    "       \n",
    "    #Plots: \n",
    "    \n",
    "    fig = plt.figure(figsize=(7,6))\n",
    "    cm = mpl.pyplot.get_cmap('RdPu')\n",
    "    color_min = 0.1\n",
    "    color_max = 0.9\n",
    "    color_range = color_max-color_min\n",
    "    colors = [cm(color_range*i/(8-1)+color_min) for i in range(8)]\n",
    "    \n",
    "    plt.hist(photo_energies_final, bins = np.logspace(1,6,30),\n",
    "             histtype=\"step\", lw = 2, density = False, color = colors[3],label = r\"Weights (galactic)\",weights = weights_final_galactic)\n",
    "    plt.hist(photoEG_energies_final, bins = np.logspace(1,6,30),\n",
    "             histtype=\"step\", lw = 2, density = False, color = colors[5],label = r\"Weights (extragalactic)\",weights = weights_final_extragalactic)\n",
    "    \n",
    "    plt.legend(bbox_to_anchor=(.90, .95), loc='upper left', borderaxespad=0.,frameon = True,shadow = True)\n",
    "    #plt.ylim(10**21,10**26)\n",
    "    plt.semilogy()\n",
    "    plt.semilogx()\n",
    "    plt.xlim(1e2,1e7)\n",
    "    #plt.ylim(0,1e-19)\n",
    "    #plt.ylim(1e2,1e6)\n",
    "    plt.xlabel(r\"$E_\\gamma$/GeV\",fontsize = 16)\n",
    "    plt.ylabel(r\"$w_{\\rm total}\\times$ dN/dE\",fontsize = 16)\n",
    "    plt.title(string+r\", DM Weights for $\\chi \\rightarrow$\"+state,fontsize = 20)\n",
    "    plt.savefig(\"/Users/barbaraskrzypek/Documents/DMWeights_{particle}_{irb}.pdf\".format(particle = initial_state,irb = irb),dpi = 400,bbox_inches = \"tight\")"
   ]
  },
  {
   "cell_type": "markdown",
   "metadata": {},
   "source": [
    "### Position Weights with Energy"
   ]
  },
  {
   "cell_type": "code",
   "execution_count": 13,
   "metadata": {},
   "outputs": [],
   "source": [
    "def MakePositionWeightsVEnergyPlot(file_galactic,file_extragalactic,weights_r,weightsEG_r,mDM,initial_state,irb = True):\n",
    "    \n",
    "    kpcTocm = 3.086*10**21\n",
    "    \n",
    "    if irb == True:\n",
    "        string = \"CMB and EBL\"\n",
    "    else: string = \"CMB Only\"\n",
    "        \n",
    "    #particle ID:\n",
    "    if initial_state == 5:\n",
    "        state = r\"$b\\bar{b}$\"\n",
    "    if initial_state == 15:\n",
    "        state = r\"$\\tau^{+}\\tau^{-}$\"\n",
    "    if initial_state == 24:\n",
    "        state = r\"$W^{+}W^{-}$\"\n",
    "    if initial_state == 13:\n",
    "        state = r\"$\\mu^{+}\\mu^{-}$\"\n",
    "        \n",
    "    #Photon Energies \n",
    "    \n",
    "    photo_energies_initial = np.array([xx[5] for xx in file_galactic if xx[2] == 22])*10**9\n",
    "    photo_energies_final = np.array([xx[3] for xx in file_galactic if xx[2] == 22])*10**9\n",
    "    photo_positions_initial = np.array([xx[6] for xx in file_galactic if xx[2] == 22])\n",
    "    \n",
    "    photoEG_energies_initial = np.array([xx[5] for xx in file_extragalactic if xx[2] == 22])*10**9\n",
    "    photoEG_energies_final = np.array([xx[3] for xx in file_extragalactic if xx[2] == 22])*10**9\n",
    "    photoEG_positions_initial = np.array([xx[6] for xx in file_extragalactic if xx[2] == 22])\n",
    "    \n",
    "    #DM Spectrum \n",
    "    \n",
    "    # Specify the particles & parameters \n",
    "    finalstate = 22 # pdg id of the photon\n",
    "    initialstate = initial_state # pdg id of the b-quark\n",
    "    x = np.logspace(1,6,50) # Energy values\n",
    "    R_galactic = np.linspace(0.001,0.1,100) #initial galactic positions in Mpc\n",
    "    R_extragalactic = np.linspace(0.1,10,100) #initial extragalactic positions in Mpc\n",
    "    dR_galactic = (0.1-0.001)/100\n",
    "    dR_extragalactic = (10-0.1)/100\n",
    "    \n",
    "    #energy binning \n",
    "    \n",
    "    lEbins = np.logspace(1,6,50) #logarithmic bins \n",
    "    lEcens = (lEbins[1:] + lEbins[:-1]) / 2 #logarithmic bin centers\n",
    "    dE = lEbins[1:] - lEbins[:-1] #bin widths \n",
    "    \n",
    "    # Extract & reweight the spectrum using HDMSpectra.spec\n",
    "    dNdx = HDMSpectra.spec(finalstate, initialstate, x*2/mDM, mDM, data)\n",
    "    spectrum = dNdx*(2/mDM)\n",
    "\n",
    "    #Plots: \n",
    "    \n",
    "    fig = plt.figure(figsize=(7,6))\n",
    "    cm = mpl.pyplot.get_cmap('RdPu')\n",
    "    color_min = 0.1\n",
    "    color_max = 0.9\n",
    "    color_range = color_max-color_min\n",
    "    colors = [cm(color_range*i/(8-1)+color_min) for i in range(8)]\n",
    "    \n",
    "    plt.hist(photo_energies_final, bins = np.logspace(1,6,30),\n",
    "             histtype=\"step\", lw = 2, density = False, color = colors[3],label = r\"Weights (galactic)\",weights = weights_r)\n",
    "    plt.hist(photoEG_energies_final, bins = np.logspace(1,6,30),\n",
    "             histtype=\"step\", lw = 2, density = False, color = colors[5],label = r\"Weights (extragalactic)\",weights = weightsEG_r)\n",
    "    \n",
    "    plt.legend(bbox_to_anchor=(.90, .95), loc='upper left', borderaxespad=0.,frameon = True,shadow = True)\n",
    "    #plt.ylim(10**21,10**26)\n",
    "    plt.semilogy()\n",
    "    plt.semilogx()\n",
    "    plt.xlim(1e2,1e7)\n",
    "    #plt.ylim(1e-15,1e-6)\n",
    "    #plt.ylim(1e2,1e6)\n",
    "    plt.xlabel(r\"$E_\\gamma$/GeV\",fontsize = 16)\n",
    "    plt.ylabel(r\"$w_{\\rm position}$\",fontsize = 16)\n",
    "    plt.title(string+r\", DM  Position Weights for $\\chi \\rightarrow$\"+state,fontsize = 20)\n",
    "    plt.savefig(\"/Users/barbaraskrzypek/Documents/DMPositionWeightsVEnergy_{particle}_{irb}.pdf\".format(particle = initial_state,irb = irb),dpi = 400,bbox_inches = \"tight\")"
   ]
  },
  {
   "cell_type": "markdown",
   "metadata": {},
   "source": [
    "### Energy Weights with Energy "
   ]
  },
  {
   "cell_type": "code",
   "execution_count": 14,
   "metadata": {},
   "outputs": [],
   "source": [
    "def MakeEnergyWeightsVEnergyPlot(file_galactic,file_extragalactic,weights_energy,weightsEG_energy,mDM,initial_state,irb = True):\n",
    "    \n",
    "    kpcTocm = 3.086*10**21\n",
    "    \n",
    "    if irb == True:\n",
    "        string = \"CMB and EBL\"\n",
    "    else: string = \"CMB Only\"\n",
    "        \n",
    "    #particle ID:\n",
    "    if initial_state == 5:\n",
    "        state = r\"$b\\bar{b}$\"\n",
    "    if initial_state == 15:\n",
    "        state = r\"$\\tau^{+}\\tau^{-}$\"\n",
    "    if initial_state == 24:\n",
    "        state = r\"$W^{+}W^{-}$\"\n",
    "    if initial_state == 13:\n",
    "        state = r\"$\\mu^{+}\\mu^{-}$\"\n",
    "        \n",
    "    #Photon Energies \n",
    "    \n",
    "    photo_energies_initial = np.array([xx[5] for xx in file_galactic if xx[2] == 22])*10**9\n",
    "    photo_energies_final = np.array([xx[3] for xx in file_galactic if xx[2] == 22])*10**9\n",
    "    photo_positions_initial = np.array([xx[6] for xx in file_galactic if xx[2] == 22])\n",
    "    \n",
    "    photoEG_energies_initial = np.array([xx[5] for xx in file_extragalactic if xx[2] == 22])*10**9\n",
    "    photoEG_energies_final = np.array([xx[3] for xx in file_extragalactic if xx[2] == 22])*10**9\n",
    "    photoEG_positions_initial = np.array([xx[6] for xx in file_extragalactic if xx[2] == 22])\n",
    "    \n",
    "    #DM Spectrum \n",
    "    \n",
    "    # Specify the particles & parameters \n",
    "    finalstate = 22 # pdg id of the photon\n",
    "    initialstate = initial_state # pdg id of the b-quark\n",
    "    x = np.logspace(1,6,50) # Energy values\n",
    "    R_galactic = np.linspace(0.001,0.1,100) #initial galactic positions in Mpc\n",
    "    R_extragalactic = np.linspace(0.1,10,100) #initial extragalactic positions in Mpc\n",
    "    dR_galactic = (0.1-0.001)/100\n",
    "    dR_extragalactic = (10-0.1)/100\n",
    "    \n",
    "    #energy binning \n",
    "    \n",
    "    lEbins = np.logspace(1,6,50) #logarithmic bins \n",
    "    lEcens = (lEbins[1:] + lEbins[:-1]) / 2 #logarithmic bin centers\n",
    "    dE = lEbins[1:] - lEbins[:-1] #bin widths \n",
    "    \n",
    "    # Extract & reweight the spectrum using HDMSpectra.spec\n",
    "    dNdx = HDMSpectra.spec(finalstate, initialstate, x*2/mDM, mDM, data)\n",
    "    spectrum = dNdx*(2/mDM)\n",
    "\n",
    "    #Plots: \n",
    "    \n",
    "    fig = plt.figure(figsize=(7,6))\n",
    "    cm = mpl.pyplot.get_cmap('RdPu')\n",
    "    color_min = 0.1\n",
    "    color_max = 0.9\n",
    "    color_range = color_max-color_min\n",
    "    colors = [cm(color_range*i/(8-1)+color_min) for i in range(8)]\n",
    "    \n",
    "    plt.hist(photo_energies_final, bins = np.logspace(1,6,30),\n",
    "             histtype=\"step\", lw = 2, density = False, color = colors[3],label = r\"Weights (galactic)\",weights = weights_energy)\n",
    "    plt.hist(photoEG_energies_final, bins = np.logspace(1,6,30),\n",
    "             histtype=\"step\", lw = 2, density = False, color = colors[5],label = r\"Weights (extragalactic)\",weights = weightsEG_energy)\n",
    "    \n",
    "    plt.legend(bbox_to_anchor=(.90, .95), loc='upper left', borderaxespad=0.,frameon = True,shadow = True)\n",
    "    #plt.ylim(10**21,10**26)\n",
    "    plt.semilogy()\n",
    "    plt.semilogx()\n",
    "    plt.xlim(1e2,1e7)\n",
    "    #plt.ylim(1e-15,1e-6)\n",
    "    #plt.ylim(1e2,1e6)\n",
    "    plt.xlabel(r\"$E_\\gamma$/GeV\",fontsize = 16)\n",
    "    plt.ylabel(r\"$w_{\\rm energy}$\",fontsize = 16)\n",
    "    plt.title(string+r\", DM  Energy Weights for $\\chi \\rightarrow$\"+state,fontsize = 20)\n",
    "    plt.savefig(\"/Users/barbaraskrzypek/Documents/DMEnergyWeightsVEnergy_{particle}_{irb}.pdf\".format(particle = initial_state,irb = irb),dpi = 400,bbox_inches = \"tight\")"
   ]
  },
  {
   "cell_type": "markdown",
   "metadata": {},
   "source": [
    "### Weights Ratio"
   ]
  },
  {
   "cell_type": "code",
   "execution_count": 15,
   "metadata": {},
   "outputs": [],
   "source": [
    "def MakeWeightsRatioPlot(file_galactic,file_extragalactic,weights_final_galactic,weights_final_extragalactic,mDM,initial_state,irb = True):\n",
    "    \n",
    "    kpcTocm = 3.086*10**21\n",
    "    \n",
    "    if irb == True:\n",
    "        string = \"CMB and EBL\"\n",
    "    else: string = \"CMB Only\"\n",
    "        \n",
    "    #particle ID:\n",
    "    if initial_state == 5:\n",
    "        state = r\"$b\\bar{b}$\"\n",
    "    if initial_state == 15:\n",
    "        state = r\"$\\tau^{+}\\tau^{-}$\"\n",
    "    if initial_state == 24:\n",
    "        state = r\"$W^{+}W^{-}$\"\n",
    "    if initial_state == 13:\n",
    "        state = r\"$\\mu^{+}\\mu^{-}$\"\n",
    "        \n",
    "    #Photon Energies \n",
    "    \n",
    "    photo_energies_initial = np.array([xx[5] for xx in file_galactic if xx[2] == 22])*10**9\n",
    "    photo_energies_final = np.array([xx[3] for xx in file_galactic if xx[2] == 22])*10**9\n",
    "    photo_positions_initial = np.array([xx[6] for xx in file_galactic if xx[2] == 22])\n",
    "    \n",
    "    photoEG_energies_initial = np.array([xx[5] for xx in file_extragalactic if xx[2] == 22])*10**9\n",
    "    photoEG_energies_final = np.array([xx[3] for xx in file_extragalactic if xx[2] == 22])*10**9\n",
    "    photoEG_positions_initial = np.array([xx[6] for xx in file_extragalactic if xx[2] == 22])\n",
    "    \n",
    "    #DM Spectrum \n",
    "    \n",
    "    # Specify the particles & parameters \n",
    "    finalstate = 22 # pdg id of the photon\n",
    "    initialstate = initial_state # pdg id of the b-quark\n",
    "    x = np.logspace(1,6,50) # Energy values\n",
    "    R_galactic = np.linspace(0.001,0.1,100) #initial galactic positions in Mpc\n",
    "    R_extragalactic = np.linspace(0.1,10,100) #initial extragalactic positions in Mpc\n",
    "    dR_galactic = (0.1-0.001)/100\n",
    "    dR_extragalactic = (10-0.1)/100\n",
    "    \n",
    "    #energy binning \n",
    "    \n",
    "    lEbins = np.logspace(1,6,50) #logarithmic bins \n",
    "    lEcens = (lEbins[1:] + lEbins[:-1]) / 2 #logarithmic bin centers\n",
    "    dE = lEbins[1:] - lEbins[:-1] #bin widths \n",
    "    \n",
    "    # Extract & reweight the spectrum using HDMSpectra.spec\n",
    "    dNdx = HDMSpectra.spec(finalstate, initialstate, x*2/mDM, mDM, data)\n",
    "    spectrum = dNdx*(2/mDM)\n",
    "\n",
    "    #Plots: \n",
    "    \n",
    "    fig = plt.figure(figsize=(7,6))\n",
    "    cm = mpl.pyplot.get_cmap('RdPu')\n",
    "    color_min = 0.1\n",
    "    color_max = 0.9\n",
    "    color_range = color_max-color_min\n",
    "    colors = [cm(color_range*i/(8-1)+color_min) for i in range(8)]\n",
    "    \n",
    "    h1,bins1 = np.histogram(photo_energies_final, bins = np.logspace(2,6,20),density = False,weights = weights_final_galactic)\n",
    "    h2,bins2 = np.histogram(photoEG_energies_final, bins = np.logspace(2,6,20),density = False,weights = weights_final_extragalactic)\n",
    "    \n",
    "    plt.hist(bins1[:-1],weights = h1/(h1+h2),bins = np.logspace(2,6,20),histtype=\"step\", lw = 2, density = False, color = colors[3],label = r\"galactic/total\")\n",
    "    plt.hist(bins1[:-1],weights = h2/(h1+h2),bins = np.logspace(2,6,20),histtype=\"step\", lw = 2, density = False, color = colors[5],label = r\"extragalactic/total\")\n",
    "    \n",
    "    plt.legend(bbox_to_anchor=(.90, .95), loc='upper left', borderaxespad=0.,frameon = True,shadow = True)\n",
    "    #plt.ylim(10**21,10**26)\n",
    "    #plt.semilogy()\n",
    "    plt.semilogx()\n",
    "    plt.xlim(1e2,1e7)\n",
    "    #plt.ylim(1e-15,1e-6)\n",
    "    #plt.ylim(1e2,1e6)\n",
    "    plt.xlabel(r\"$E_\\gamma$/GeV\",fontsize = 16)\n",
    "    plt.ylabel(r\"$w/w_{\\rm total}$\",fontsize = 16)\n",
    "    plt.title(string+r\", DM  Energy Weights for $\\chi \\rightarrow$\"+state,fontsize = 20)\n",
    "    plt.savefig(\"/Users/barbaraskrzypek/Documents/DMEnergyWeightsVEnergy_{particle}_{irb}.pdf\".format(particle = initial_state,irb = irb),dpi = 400,bbox_inches = \"tight\")"
   ]
  },
  {
   "cell_type": "markdown",
   "metadata": {},
   "source": [
    "### DM Reweighting Plots  "
   ]
  },
  {
   "cell_type": "code",
   "execution_count": 70,
   "metadata": {},
   "outputs": [],
   "source": [
    "#makes a plot showing the galactic, extragalactic, and combined reweighted DM spectra \n",
    "\n",
    "def MakeGammaDMAttPlot(file_galactic,file_IC,weights_final_galactic,weights_final_IC,mDM,initial_state,irb = True):\n",
    "    \n",
    "    kpcTocm = 3.086*10**21\n",
    "    \n",
    "    if irb == True:\n",
    "        string = \"CMB and EBL\"\n",
    "    else: string = \"CMB Only\"\n",
    "    \n",
    "    #particle ID:\n",
    "    if initial_state == 5:\n",
    "        state = r\"$b\\bar{b}$\"\n",
    "    if initial_state == 15:\n",
    "        state = r\"$\\tau^{+}\\tau^{-}$\"\n",
    "    if initial_state == 24:\n",
    "        state = r\"$W^{+}W^{-}$\"\n",
    "    if initial_state == 13:\n",
    "        state = r\"$\\mu^{+}\\mu^{-}$\"\n",
    "        \n",
    "    #energy binning \n",
    "    \n",
    "    lEbins = np.logspace(1,6,20) #logarithmic bins \n",
    "    lEcens = (lEbins[1:] + lEbins[:-1]) / 2 #logarithmic bin centers\n",
    "    dE = lEbins[1:] - lEbins[:-1] #bin widths \n",
    "        \n",
    "    #Photon Energies\n",
    "    \n",
    "    photo_energies_initial = np.array([xx[5] for xx in file_galactic if (xx[2] == 22 and xx[5]<=10**-3)])*10**9\n",
    "    photo_energies_final = np.array([xx[3] for xx in file_galactic if (xx[2] == 22 and xx[5]<=10**-3)])*10**9\n",
    "    photo_positions_initial = np.array([xx[6] for xx in file_galactic if (xx[2] == 22 and xx[5]<=10**-3)])\n",
    "    photo_energies_secondary = np.array([xx[3]for xx in file_galactic if ((xx[2] == 22 and xx[5]<=10**-3)) and (xx[5]!=xx[3])])*10**9\n",
    "    photo_energies_prompt = np.array([xx[3]for xx in file_galactic if ((xx[2] == 22 and xx[5]<=10**-3)) and (xx[5]==xx[3])])*10**9\n",
    "    \n",
    "    #photoPrompt_energies_initial = np.array([xx[5] for xx in filePrompt_galactic if xx[2] == 22])*10**9\n",
    "    #photoPrompt_energies_final = np.array([xx[3] for xx in filePrompt_galactic if xx[2] == 22])*10**9\n",
    "    #photoPrompt_positions_initial = np.array([xx[6] for xx in filePrompt_galactic if xx[2] == 22])\n",
    "    \n",
    "    photoIC_energies_initial = np.array([xx[5] for xx in file_IC if (xx[2] == 22 and xx[5]<=10**-3)])*10**9\n",
    "    photoIC_energies_final = np.array([xx[3] for xx in file_IC if (xx[2] == 22 and xx[5]<=10**-3)])*10**9\n",
    "    #photoEG_positions_initial = np.array([xx[6] for xx in file_extragalactic if (xx[2] == 22 and xx[5]<=10**-3)])\n",
    "    \n",
    "    file_galactic_photons = np.array([xx for xx in file_galactic if (xx[2] == 22 and xx[5]<=10**-3)])\n",
    "    #inverseCompton_bool = [((xx[2]==22) and (xx[5]!=xx[7])) for xx in file_galactic_photons]\n",
    "    Prompt_bool = [((xx[2]==22) and (xx[3]==xx[5])) for xx in file_galactic_photons]\n",
    "    #weights_galactic_inverseCompton = weights_final_galactic[inverseCompton_bool]\n",
    "    weights_galactic_Prompt = weights_final_galactic[Prompt_bool]\n",
    "    \n",
    "    J_galactic = np.histogram(photo_energies_final, bins=lEbins,weights = (photo_energies_final**2)*weights_final_galactic)[0]/ dE\n",
    "    J_IC = np.histogram(photoIC_energies_final, bins=lEbins,weights = (photoIC_energies_final**2)*weights_final_ICgalactic)[0] / dE\n",
    "    #J_galactic_inverseCompton = np.histogram(photo_energies_inverseCompton, bins=lEbins,weights = (photo_energies_inverseCompton**2)*weights_galactic_inverseCompton)[0]/ dE\n",
    "    J_galacticPrompt = np.histogram(photo_energies_prompt, bins=lEbins,weights = (photo_energies_prompt**2)*weights_galactic_Prompt)[0]/ dE\n",
    "    \n",
    "    #DM Spectrum:\n",
    "    \n",
    "    # Specify the particles & parameters \n",
    "    finalstate = 22 # pdg id of the photon\n",
    "    initialstate = initial_state # pdg id of the b-quark\n",
    "    x = np.logspace(1,6,20) # Energy values\n",
    "    R_galactic = np.linspace(0.001,0.1,100) #initial galactic positions in Mpc\n",
    "    R_extragalactic = np.linspace(0.1,10,100) #initial extragalactic positions in Mpc\n",
    "    dR_galactic = (0.1-0.001)/100\n",
    "    dR_extragalactic = (10-0.1)/100\n",
    "    \n",
    "    # Extract & reweight the spectrum using HDMSpectra.spec\n",
    "    dNdx = HDMSpectra.spec(finalstate, initialstate, x*2/mDM, mDM, data)\n",
    "    dNdx_neutrinos = HDMSpectra.spec(finalstate, 12, x*2/mDM, mDM, data)+HDMSpectra.spec(finalstate,14, x*2/mDM, mDM, data)+HDMSpectra.spec(finalstate,16, x*2/mDM, mDM, data)\n",
    "    spectrum = dNdx*(2/mDM)\n",
    "    spectrum_neutrinos = dNdx_neutrinos*(2/mDM)\n",
    "    galactic_sum = 0 \n",
    "    for i in range(len(R_galactic)-1):\n",
    "        r = R_galactic[i]*10**(3) #convert Mpc to kpc\n",
    "        galactic_sum += weights_galactic(r,mDM,10**28)*dR_galactic*10**(3)*kpcTocm\n",
    "    print(galactic_sum)\n",
    "    extragalactic_sum = 0\n",
    "    for i in range(len(R_extragalactic)-1):\n",
    "        r = R_extragalactic[i]*10**(3) #convert Mpc to kpc\n",
    "        dR = dR_galactic*H0/c #converts Mpc to redshift \n",
    "        extragalactic_sum += weights_extragalactic(r,mDM,10**28)*dR\n",
    "    print(extragalactic_sum)\n",
    "    spectrum_weighted = spectrum*(galactic_sum+extragalactic_sum)\n",
    "    spectrum_weighted_neutrinos = spectrum_neutrinos*(galactic_sum+extragalactic_sum)\n",
    "    \n",
    "    # make the figure \n",
    "    \n",
    "    fig = plt.figure(figsize=(7,6))\n",
    "    cm = mpl.pyplot.get_cmap('RdPu')\n",
    "    color_min = 0.1\n",
    "    color_max = 0.9\n",
    "    color_range = color_max-color_min\n",
    "    colors = [cm(color_range*i/(8-1)+color_min) for i in range(8)]\n",
    "    \n",
    "    print(weights_final_galactic)\n",
    "    \n",
    "    #h1 = np.histogram(photo_energies_final, bins = np.logspace(1,6,31),weights = weights_final_galactic*(photo_energies_final**2))\n",
    "    #h2 = np.histogram(photoEG_energies_final, bins = np.logspace(1,6,31),weights = weights_final_extragalactic*(photoEG_energies_final**2))\n",
    "    \n",
    "    #print(np.histogram(photo_energies_final, bins = np.logspace(1,6,30))[0])\n",
    "    #print(h1[0])\n",
    "    #plt.hist(x,bins = np.logspace(2,6,300),histtype = \"step\",lw = 2, density = False, color = colors[3],label = r\"Initial Spectrum for $\\gamma =$ {gamma}\".format(gamma = gamma),weights = file_injected)\n",
    "    #plt.hist(x,bins = np.logspace(2,6,300),histtype = \"step\",lw = 2, density = True, color = colors[5],label = r\"Attenuated Spectrum for $\\gamma =$ {gamma}\".format(gamma = gamma),weights = file_attenuated)\n",
    "    plt.hist(lEcens,weights = J_IC,bins = np.logspace(1,6,15),histtype=\"step\", lw = 2, density = False, color = colors[5],label = r\"Reweighted DM Spectrum (Galactic, IC)\")\n",
    "    #plt.hist(lEcens,weights = J_galactic,bins = np.logspace(1,6,20),histtype=\"step\", lw = 2, density = False, color = colors[5],label = r\"Reweighted DM Spectrum (Galactic, All)\")\n",
    "    plt.hist(lEcens,weights = J_galacticPrompt,bins = np.logspace(1,6,15),histtype=\"step\", lw = 2, density = False, color = colors[7],label = r\"Reweighted DM Spectrum (Galactic, Prompt)\")\n",
    "    #plt.hist(lEcens,weights = J_extragalactic,bins = np.logspace(1,6,20),histtype=\"step\", lw = 2, density = False, color = 'blue',label = r\"Reweighted DM Spectrum (Extragalactic)\")\n",
    "    #plt.hist(photo_energies_final, bins = np.logspace(1,6,30),\n",
    "    #         histtype=\"step\", lw = 2, density = False, color = colors[3],label = r\"Reweighted DM Spectrum (Galactic)\",weights = weights_final_galactic*(photo_energies_final**2))\n",
    "    #plt.hist(photoEG_energies_final, bins = np.logspace(1,6,50),\n",
    "    #         histtype=\"step\", lw = 2, density = False, color = colors[4],label = r\"Reweighted DM Spectrum (Extragalactic)\",weights = weights_final_extragalactic*photoEG_energies_final**2)\n",
    "    #plt.hist(x, bins = np.logspace(1,6,30),\n",
    "    #         histtype=\"step\", lw = 2, density = False, color = colors[6],label = r\"Reweighted DM Spectrum (Both)\",weights = h1[0]+h2[0])\n",
    "    #plt.hist(x,bins = np.logspace(1,6,300),histtype = \"step\",lw = 2,density = False,color = colors[7],label = r\"Reweighted DM Spectrum\",weights = (spectrum/(x**(gamma)*np.exp((-x/(10**8)))))*file_attenuated)\n",
    "    #plt.hist(x,bins = np.logspace(1,6,300),histtype = \"step\",lw = 2,density = False,color = colors[7],label = r\"Reweighted DM Spectrum\",weights = (spectrum*x**2/(file_injected))*file_attenuated)\n",
    "    #plt.hist(x, bins = np.logspace(1,6,30),histtype=\"step\", lw = 2, density = False,color ='orange',label = r\"Initial DM Spectrum \\par from HDMSpectra \\par (Galactic Component Only)\",weights = spectrum_weighted)\n",
    "    \n",
    "    #plt.errorbar(lEcens,yhist[0],yerr = dy,fmt = 'o',color = 'blue',alpha = 0.4)\n",
    "    plt.errorbar(energy_centers, np.array(y), xerr=np.array(xerr), yerr=np.array([y_low, y_high]),\n",
    "             color='black', marker='o',\n",
    "             markerfacecolor='blue',\n",
    "             linestyle='None', capsize=3,\n",
    "             markersize = 6,\n",
    "             elinewidth=1., label = \"Neutrinos (HESE 7.5yr, this work)\", zorder = 3) \n",
    "    plt.errorbar(e_fermi_GeV, fermi[:,2]*e_fermi_GeV,\n",
    "             xerr=np.array([np.abs(fermi[:,0]*1.0e-3-e_fermi_GeV),\n",
    "                            np.abs(fermi[:,1]*1.0e-3-e_fermi_GeV)]),\n",
    "             yerr=np.array([np.abs(fermi[:,3]*e_fermi_GeV),\n",
    "                            np.abs(fermi[:,4]*e_fermi_GeV)]),\n",
    "             uplims = upper_limits,\n",
    "             color=colors[6],\n",
    "             markerfacecolor=colors[4], marker='^',\n",
    "             linestyle='None', capsize=2,\n",
    "             markersize = 8,\n",
    "             elinewidth=1., label = \"Gamma rays (Fermi 2017)\", zorder = 3)\n",
    "    \n",
    "    #yhist1,bins1 = np.histogram(lEcens, bins = np.logspace(1,6,30),density = False,weights = J_galactic)\n",
    "    #yhist2 = np.histogram(lEcens,bins = np.logspace(1,6,30),density = False,weights = (J_galactic)**2) \n",
    "    #X = np.sum(photo_energies_original)/photo_energies_original.size\n",
    "    #dy = list(map(np.sqrt,yhist2[0]))\n",
    "    #dy = np.sqrt(np.sum((yhist[0])**2))#/(yhist[0].size*(yhist[0].size-1)))\n",
    "    #dy = np.sqrt((-np.sum(y[0]**2)+np.sum(y[0])**2)/lEcens.size)\n",
    "    \n",
    "    #plt.errorbar(lEcens,yhist1,yerr = dy,fmt = 'o',color = 'blue',alpha = 0.4)\n",
    "    plt.legend(bbox_to_anchor=(.90, .95), loc='upper left', borderaxespad=0.,frameon = True,shadow = True)\n",
    "    #plt.ylim(10**21,10**26)\n",
    "    plt.semilogy()\n",
    "    plt.semilogx()\n",
    "    plt.xlim(1e2,1e7)\n",
    "    #plt.ylim(1e-11,1e-2)\n",
    "    #plt.ylim(1e2,1e6)\n",
    "    plt.xlabel(r\"$E_\\gamma$/GeV\",fontsize = 16)\n",
    "    plt.ylabel(r\"$E^2 d\\phi/dE$\",fontsize = 16)\n",
    "    plt.title(string+r\", DM Spectrum for $\\chi \\rightarrow$\"+state,fontsize = 20)\n",
    "    plt.savefig(\"/Users/barbaraskrzypek/Documents/DMSpectraAtt_{particle}_{irb}.pdf\".format(particle = initial_state,irb = irb),dpi = 400,bbox_inches = \"tight\")"
   ]
  },
  {
   "cell_type": "code",
   "execution_count": 71,
   "metadata": {},
   "outputs": [],
   "source": [
    "#makes a plot showing the galactic, extragalactic, and combined reweighted DM spectra \n",
    "\n",
    "def MakeGammaDMAttEGPlot(file_galactic,file_extragalactic,weights_final_galactic,weights_final_extragalactic,mDM,initial_state,irb = True):\n",
    "    \n",
    "    kpcTocm = 3.086*10**21\n",
    "    \n",
    "    if irb == True:\n",
    "        string = \"CMB and EBL\"\n",
    "    else: string = \"CMB Only\"\n",
    "    \n",
    "    #particle ID:\n",
    "    if initial_state == 5:\n",
    "        state = r\"$b\\bar{b}$\"\n",
    "    if initial_state == 15:\n",
    "        state = r\"$\\tau^{+}\\tau^{-}$\"\n",
    "    if initial_state == 24:\n",
    "        state = r\"$W^{+}W^{-}$\"\n",
    "    if initial_state == 13:\n",
    "        state = r\"$\\mu^{+}\\mu^{-}$\"\n",
    "        \n",
    "    #energy binning \n",
    "    \n",
    "    lEbins = np.logspace(1,6,20) #logarithmic bins \n",
    "    lEcens = (lEbins[1:] + lEbins[:-1]) / 2 #logarithmic bin centers\n",
    "    dE = lEbins[1:] - lEbins[:-1] #bin widths \n",
    "        \n",
    "    #Photon Energies\n",
    "    \n",
    "    photo_energies_initial = np.array([xx[5] for xx in file_galactic if xx[2] == 22])*10**9\n",
    "    photo_energies_final = np.array([xx[3] for xx in file_galactic if xx[2] == 22])*10**9\n",
    "    photo_positions_initial = np.array([xx[6] for xx in file_galactic if xx[2] == 22])\n",
    "    photo_energies_inverseCompton = np.array([xx[3]for xx in file_galactic if (xx[2]==22) and (xx[5]!=xx[7])])*10**9\n",
    "    photo_energies_Prompt = np.array([xx[3]for xx in file_galactic if (xx[2]==22) and (xx[5]==xx[7])])*10**9\n",
    "    \n",
    "    #photoPrompt_energies_initial = np.array([xx[5] for xx in filePrompt_galactic if xx[2] == 22])*10**9\n",
    "    #photoPrompt_energies_final = np.array([xx[3] for xx in filePrompt_galactic if xx[2] == 22])*10**9\n",
    "    #photoPrompt_positions_initial = np.array([xx[6] for xx in filePrompt_galactic if xx[2] == 22])\n",
    "    \n",
    "    photoEG_energies_initial = np.array([xx[5] for xx in file_extragalactic if xx[2] == 22])*10**9\n",
    "    photoEG_energies_final = np.array([xx[3] for xx in file_extragalactic if xx[2] == 22])*10**9\n",
    "    photoEG_positions_initial = np.array([xx[6] for xx in file_extragalactic if xx[2] == 22])\n",
    "    \n",
    "    file_galactic_photons = np.array([xx for xx in file_galactic if xx[2] == 22])\n",
    "    inverseCompton_bool = [((xx[2]==22) and (xx[5]!=xx[7])) for xx in file_galactic_photons]\n",
    "    Prompt_bool = [((xx[2]==22) and (xx[5]==xx[7])) for xx in file_galactic_photons]\n",
    "    weights_galactic_inverseCompton = weights_final_galactic[inverseCompton_bool]\n",
    "    weights_galactic_Prompt = weights_final_galactic[Prompt_bool]\n",
    "    \n",
    "    J_galactic = np.histogram(photo_energies_final, bins=lEbins,weights = (photo_energies_final**2)*weights_final_galactic)[0]/ dE\n",
    "    J_extragalactic = np.histogram(photoEG_energies_final, bins=lEbins,weights = (photoEG_energies_final**2)*weights_final_extragalactic)[0] / dE\n",
    "    J_galactic_inverseCompton = np.histogram(photo_energies_inverseCompton, bins=lEbins,weights = (photo_energies_inverseCompton**2)*weights_galactic_inverseCompton)[0]/ dE\n",
    "    J_galacticPrompt = np.histogram(photo_energies_Prompt, bins=lEbins,weights = (photo_energies_Prompt**2)*weights_galactic_Prompt)[0]/ dE\n",
    "    \n",
    "    #DM Spectrum:\n",
    "    \n",
    "    # Specify the particles & parameters \n",
    "    finalstate = 22 # pdg id of the photon\n",
    "    initialstate = initial_state # pdg id of the b-quark\n",
    "    x = np.logspace(1,6,20) # Energy values\n",
    "    R_galactic = np.linspace(0.001,0.1,100) #initial galactic positions in Mpc\n",
    "    R_extragalactic = np.linspace(0.1,10,100) #initial extragalactic positions in Mpc\n",
    "    dR_galactic = (0.1-0.001)/100\n",
    "    dR_extragalactic = (10-0.1)/100\n",
    "    \n",
    "    # Extract & reweight the spectrum using HDMSpectra.spec\n",
    "    dNdx = HDMSpectra.spec(finalstate, initialstate, x*2/mDM, mDM, data)\n",
    "    dNdx_neutrinos = HDMSpectra.spec(finalstate, 12, x*2/mDM, mDM, data)+HDMSpectra.spec(finalstate,14, x*2/mDM, mDM, data)+HDMSpectra.spec(finalstate,16, x*2/mDM, mDM, data)\n",
    "    spectrum = dNdx*(2/mDM)\n",
    "    spectrum_neutrinos = dNdx_neutrinos*(2/mDM)\n",
    "    galactic_sum = 0 \n",
    "    for i in range(len(R_galactic)-1):\n",
    "        r = R_galactic[i]*10**(3) #convert Mpc to kpc\n",
    "        galactic_sum += weights_galactic(r,mDM,10**28)*dR_galactic*10**(3)*kpcTocm\n",
    "    print(galactic_sum)\n",
    "    extragalactic_sum = 0\n",
    "    for i in range(len(R_extragalactic)-1):\n",
    "        r = R_extragalactic[i]*10**(3) #convert Mpc to kpc\n",
    "        dR = dR_galactic*H0/c #converts Mpc to redshift \n",
    "        extragalactic_sum += weights_extragalactic(r,mDM,10**28)*dR\n",
    "    print(extragalactic_sum)\n",
    "    spectrum_weighted = spectrum*(galactic_sum+extragalactic_sum)\n",
    "    spectrum_weighted_neutrinos = spectrum_neutrinos*(galactic_sum+extragalactic_sum)\n",
    "    \n",
    "    # make the figure \n",
    "    \n",
    "    fig = plt.figure(figsize=(7,6))\n",
    "    cm = mpl.pyplot.get_cmap('RdPu')\n",
    "    color_min = 0.1\n",
    "    color_max = 0.9\n",
    "    color_range = color_max-color_min\n",
    "    colors = [cm(color_range*i/(8-1)+color_min) for i in range(8)]\n",
    "    \n",
    "    print(weights_final_galactic)\n",
    "    \n",
    "    #h1 = np.histogram(photo_energies_final, bins = np.logspace(1,6,31),weights = weights_final_galactic*(photo_energies_final**2))\n",
    "    #h2 = np.histogram(photoEG_energies_final, bins = np.logspace(1,6,31),weights = weights_final_extragalactic*(photoEG_energies_final**2))\n",
    "    \n",
    "    #print(np.histogram(photo_energies_final, bins = np.logspace(1,6,30))[0])\n",
    "    #print(h1[0])\n",
    "    #plt.hist(x,bins = np.logspace(2,6,300),histtype = \"step\",lw = 2, density = False, color = colors[3],label = r\"Initial Spectrum for $\\gamma =$ {gamma}\".format(gamma = gamma),weights = file_injected)\n",
    "    #plt.hist(x,bins = np.logspace(2,6,300),histtype = \"step\",lw = 2, density = True, color = colors[5],label = r\"Attenuated Spectrum for $\\gamma =$ {gamma}\".format(gamma = gamma),weights = file_attenuated)\n",
    "    #plt.hist(lEcens,weights = J_galactic_inverseCompton,bins = np.logspace(1,6,20),histtype=\"step\", lw = 2, density = False, color = colors[5],label = r\"Reweighted DM Spectrum (Galactic, Inverse Compton)\")\n",
    "    #plt.hist(lEcens,weights = J_galactic,bins = np.logspace(1,6,20),histtype=\"step\", lw = 2, density = False, color = colors[5],label = r\"Reweighted DM Spectrum (Galactic, All)\")\n",
    "    #plt.hist(lEcens,weights = J_galacticPrompt,bins = np.logspace(1,6,20),histtype=\"step\", lw = 2, density = False, color = colors[7],label = r\"Reweighted DM Spectrum (Galactic, Prompt)\")\n",
    "    plt.hist(lEcens,weights = J_extragalactic,bins = np.logspace(1,6,20),histtype=\"step\", lw = 2, density = False, color = 'blue',label = r\"Reweighted DM Spectrum (Extragalactic)\")\n",
    "    #plt.hist(photo_energies_final, bins = np.logspace(1,6,30),\n",
    "    #         histtype=\"step\", lw = 2, density = False, color = colors[3],label = r\"Reweighted DM Spectrum (Galactic)\",weights = weights_final_galactic*(photo_energies_final**2))\n",
    "    #plt.hist(photoEG_energies_final, bins = np.logspace(1,6,50),\n",
    "    #         histtype=\"step\", lw = 2, density = False, color = colors[4],label = r\"Reweighted DM Spectrum (Extragalactic)\",weights = weights_final_extragalactic*photoEG_energies_final**2)\n",
    "    #plt.hist(x, bins = np.logspace(1,6,30),\n",
    "    #         histtype=\"step\", lw = 2, density = False, color = colors[6],label = r\"Reweighted DM Spectrum (Both)\",weights = h1[0]+h2[0])\n",
    "    #plt.hist(x,bins = np.logspace(1,6,300),histtype = \"step\",lw = 2,density = False,color = colors[7],label = r\"Reweighted DM Spectrum\",weights = (spectrum/(x**(gamma)*np.exp((-x/(10**8)))))*file_attenuated)\n",
    "    #plt.hist(x,bins = np.logspace(1,6,300),histtype = \"step\",lw = 2,density = False,color = colors[7],label = r\"Reweighted DM Spectrum\",weights = (spectrum*x**2/(file_injected))*file_attenuated)\n",
    "    #plt.hist(x, bins = np.logspace(1,6,30),histtype=\"step\", lw = 2, density = False,color ='orange',label = r\"Initial DM Spectrum \\par from HDMSpectra \\par (Galactic Component Only)\",weights = spectrum_weighted)\n",
    "    \n",
    "    #plt.errorbar(lEcens,yhist[0],yerr = dy,fmt = 'o',color = 'blue',alpha = 0.4)\n",
    "    plt.errorbar(energy_centers, np.array(y), xerr=np.array(xerr), yerr=np.array([y_low, y_high]),\n",
    "             color='black', marker='o',\n",
    "             markerfacecolor='blue',\n",
    "             linestyle='None', capsize=3,\n",
    "             markersize = 6,\n",
    "             elinewidth=1., label = \"Neutrinos (HESE 7.5yr, this work)\", zorder = 3) \n",
    "    plt.errorbar(e_fermi_GeV, fermi[:,2]*e_fermi_GeV,\n",
    "             xerr=np.array([np.abs(fermi[:,0]*1.0e-3-e_fermi_GeV),\n",
    "                            np.abs(fermi[:,1]*1.0e-3-e_fermi_GeV)]),\n",
    "             yerr=np.array([np.abs(fermi[:,3]*e_fermi_GeV),\n",
    "                            np.abs(fermi[:,4]*e_fermi_GeV)]),\n",
    "             uplims = upper_limits,\n",
    "             color=colors[6],\n",
    "             markerfacecolor=colors[4], marker='^',\n",
    "             linestyle='None', capsize=2,\n",
    "             markersize = 8,\n",
    "             elinewidth=1., label = \"Gamma rays (Fermi 2017)\", zorder = 3)\n",
    "    \n",
    "    #yhist1,bins1 = np.histogram(lEcens, bins = np.logspace(1,6,30),density = False,weights = J_galactic)\n",
    "    #yhist2 = np.histogram(lEcens,bins = np.logspace(1,6,30),density = False,weights = (J_galactic)**2) \n",
    "    #X = np.sum(photo_energies_original)/photo_energies_original.size\n",
    "    #dy = list(map(np.sqrt,yhist2[0]))\n",
    "    #dy = np.sqrt(np.sum((yhist[0])**2))#/(yhist[0].size*(yhist[0].size-1)))\n",
    "    #dy = np.sqrt((-np.sum(y[0]**2)+np.sum(y[0])**2)/lEcens.size)\n",
    "    \n",
    "    #plt.errorbar(lEcens,yhist1,yerr = dy,fmt = 'o',color = 'blue',alpha = 0.4)\n",
    "    plt.legend(bbox_to_anchor=(.90, .95), loc='upper left', borderaxespad=0.,frameon = True,shadow = True)\n",
    "    #plt.ylim(10**21,10**26)\n",
    "    plt.semilogy()\n",
    "    plt.semilogx()\n",
    "    plt.xlim(1e2,1e7)\n",
    "    #plt.ylim(1e-11,1e-2)\n",
    "    #plt.ylim(1e2,1e6)\n",
    "    plt.xlabel(r\"$E_\\gamma$/GeV\",fontsize = 16)\n",
    "    plt.ylabel(r\"$E^2 d\\phi/dE$\",fontsize = 16)\n",
    "    plt.title(string+r\", DM Spectrum for $\\chi \\rightarrow$\"+state,fontsize = 20)\n",
    "    plt.savefig(\"/Users/barbaraskrzypek/Documents/DMSpectraAttEG_{particle}_{irb}.pdf\".format(particle = initial_state,irb = irb),dpi = 400,bbox_inches = \"tight\")"
   ]
  },
  {
   "cell_type": "markdown",
   "metadata": {},
   "source": [
    "## Make Plots "
   ]
  },
  {
   "cell_type": "code",
   "execution_count": 7,
   "metadata": {},
   "outputs": [
    {
     "ename": "NameError",
     "evalue": "name 'file_extragalactic_ebl' is not defined",
     "output_type": "error",
     "traceback": [
      "\u001b[0;31m---------------------------------------------------------------------------\u001b[0m",
      "\u001b[0;31mNameError\u001b[0m                                 Traceback (most recent call last)",
      "\u001b[0;32m<ipython-input-7-24dfe48d36b3>\u001b[0m in \u001b[0;36m<module>\u001b[0;34m\u001b[0m\n\u001b[0;32m----> 1\u001b[0;31m \u001b[0mweights_r\u001b[0m\u001b[0;34m,\u001b[0m\u001b[0mweightsEG_r\u001b[0m\u001b[0;34m,\u001b[0m\u001b[0mweights_energies\u001b[0m\u001b[0;34m,\u001b[0m\u001b[0mweightsEG_energies\u001b[0m\u001b[0;34m,\u001b[0m\u001b[0mweights_final_galactic\u001b[0m\u001b[0;34m,\u001b[0m\u001b[0mweights_final_extragalactic\u001b[0m \u001b[0;34m=\u001b[0m \u001b[0mMakeWeights\u001b[0m\u001b[0;34m(\u001b[0m\u001b[0mfile_galactic_ebl\u001b[0m\u001b[0;34m,\u001b[0m\u001b[0mfile_extragalactic_ebl\u001b[0m\u001b[0;34m,\u001b[0m\u001b[0;36m2\u001b[0m\u001b[0;34m*\u001b[0m\u001b[0;36m10\u001b[0m\u001b[0;34m**\u001b[0m\u001b[0;36m6\u001b[0m\u001b[0;34m,\u001b[0m\u001b[0;36m5\u001b[0m\u001b[0;34m,\u001b[0m\u001b[0;32mTrue\u001b[0m\u001b[0;34m)\u001b[0m\u001b[0;34m\u001b[0m\u001b[0;34m\u001b[0m\u001b[0m\n\u001b[0m",
      "\u001b[0;31mNameError\u001b[0m: name 'file_extragalactic_ebl' is not defined"
     ]
    }
   ],
   "source": [
    "weights_r,weightsEG_r,weights_energies,weightsEG_energies,weights_final_galactic,weights_final_extragalactic = MakeWeights(file_galactic_ebl,file_extragalactic_ebl,2*10**6,5,True)"
   ]
  },
  {
   "cell_type": "code",
   "execution_count": 63,
   "metadata": {},
   "outputs": [],
   "source": [
    "weights_r,weights_energies,weights_final_galactic = MakeGalacticWeights(file_galactic_ebl,2*10**6,5,True)"
   ]
  },
  {
   "cell_type": "code",
   "execution_count": 64,
   "metadata": {},
   "outputs": [],
   "source": [
    "weights_rIC,weights_energiesIC,weights_final_ICgalactic = MakeGalacticWeights(file_galactic_ebl_IC,2*10**6,5,True)"
   ]
  },
  {
   "cell_type": "code",
   "execution_count": 65,
   "metadata": {},
   "outputs": [],
   "source": [
    "weightsCMB_r,weightsCMBEG_r,weightsCMB_energies,weightsCMBEG_energies,weightsCMB_final_galactic,weightsCMB_final_extragalactic = MakeWeights(file_galactic_cmb,file_extragalactic_cmb,2*10**6,5,False)"
   ]
  },
  {
   "cell_type": "code",
   "execution_count": 97,
   "metadata": {},
   "outputs": [],
   "source": [
    "weightsNoIC_r,weightsNoICEG_r,weightsNoIC_energies,weightsNoICEG_energies,weightsNoIC_final_galactic,weightsNoIC_final_extragalactic = MakeWeights(file_galacticNoIC_ebl,file_extragalactic_ebl,2*10**6,5,True)"
   ]
  },
  {
   "cell_type": "code",
   "execution_count": null,
   "metadata": {},
   "outputs": [],
   "source": []
  },
  {
   "cell_type": "code",
   "execution_count": 66,
   "metadata": {},
   "outputs": [
    {
     "data": {
      "text/plain": [
       "array([1.23953050e-28, 1.23953050e-28, 1.23953050e-28, ...,\n",
       "       4.60522641e-27, 4.60522641e-27, 1.56243019e-28])"
      ]
     },
     "execution_count": 66,
     "metadata": {},
     "output_type": "execute_result"
    }
   ],
   "source": [
    "weights_final_ICgalactic"
   ]
  },
  {
   "cell_type": "code",
   "execution_count": 65,
   "metadata": {},
   "outputs": [
    {
     "data": {
      "text/plain": [
       "array([6.88418578e-31, 5.29982403e-31, 3.44824703e-31, ...,\n",
       "       5.61247803e-31, 6.38923069e-30, 3.49875466e-29])"
      ]
     },
     "execution_count": 65,
     "metadata": {},
     "output_type": "execute_result"
    }
   ],
   "source": [
    "weights_final_galactic"
   ]
  },
  {
   "cell_type": "code",
   "execution_count": 72,
   "metadata": {},
   "outputs": [
    {
     "name": "stdout",
     "output_type": "stream",
     "text": [
      "1.764595508100558e-15\n",
      "1.300769456960941e-42\n",
      "[6.88418578e-31 5.29982403e-31 3.44824703e-31 ... 5.61247803e-31\n",
      " 6.38923069e-30 3.49875466e-29]\n"
     ]
    },
    {
     "data": {
      "image/png": "[encoded data removed]",
      "text/plain": [
       "<Figure size 504x432 with 1 Axes>"
      ]
     },
     "metadata": {
      "needs_background": "light"
     },
     "output_type": "display_data"
    }
   ],
   "source": [
    "MakeGammaDMAttPlot(file_galactic_ebl,file_galactic_ebl_IC,weights_final_galactic,weights_final_ICgalactic,2*10**6,5)"
   ]
  },
  {
   "cell_type": "code",
   "execution_count": null,
   "metadata": {},
   "outputs": [],
   "source": [
    "MakeGammaDMAttPlot(file_galactic_cmb,file_galactic_cmb_IC,weights_final_galactic_cmb,weights_final_ICgalactic_cmb,2*10**6,5)"
   ]
  },
  {
   "cell_type": "code",
   "execution_count": 81,
   "metadata": {},
   "outputs": [
    {
     "name": "stdout",
     "output_type": "stream",
     "text": [
      "(7730593,)\n",
      "(0,)\n"
     ]
    },
    {
     "data": {
      "image/png": "[encoded data removed]",
      "text/plain": [
       "<Figure size 504x432 with 1 Axes>"
      ]
     },
     "metadata": {
      "needs_background": "light"
     },
     "output_type": "display_data"
    }
   ],
   "source": [
    "MakeInjPlot(file_galactic_ebl_IC,file_galactic_ebl,-1,True,False)"
   ]
  },
  {
   "cell_type": "code",
   "execution_count": 30,
   "metadata": {},
   "outputs": [
    {
     "name": "stdout",
     "output_type": "stream",
     "text": [
      "(777717,)\n"
     ]
    },
    {
     "data": {
      "image/png": "[encoded data removed]",
      "text/plain": [
       "<Figure size 504x432 with 1 Axes>"
      ]
     },
     "metadata": {
      "needs_background": "light"
     },
     "output_type": "display_data"
    }
   ],
   "source": [
    "MakeInjPlot(file_extragalactic_ebl,-1,True,True)"
   ]
  },
  {
   "cell_type": "code",
   "execution_count": 710,
   "metadata": {},
   "outputs": [
    {
     "data": {
      "text/plain": [
       "<Figure size 504x432 with 0 Axes>"
      ]
     },
     "metadata": {},
     "output_type": "display_data"
    },
    {
     "data": {
      "image/png": "[encoded data removed]",
      "text/plain": [
       "<Figure size 360x360 with 2 Axes>"
      ]
     },
     "metadata": {
      "needs_background": "light"
     },
     "output_type": "display_data"
    }
   ],
   "source": [
    "Make2DPowerLawPlot(file_galactic_ebl,-1,True)"
   ]
  },
  {
   "cell_type": "code",
   "execution_count": 650,
   "metadata": {},
   "outputs": [
    {
     "data": {
      "image/png": "[encoded data removed]",
      "text/plain": [
       "<Figure size 504x432 with 1 Axes>"
      ]
     },
     "metadata": {
      "needs_background": "light"
     },
     "output_type": "display_data"
    }
   ],
   "source": [
    "MakeWeightsPlot(file_galactic_ebl,file_extragalactic_ebl,weights_final_galactic,weights_final_extragalactic,2*10**6,5,True)"
   ]
  },
  {
   "cell_type": "code",
   "execution_count": 36,
   "metadata": {},
   "outputs": [
    {
     "data": {
      "image/png": "[encoded data removed]",
      "text/plain": [
       "<Figure size 504x432 with 1 Axes>"
      ]
     },
     "metadata": {
      "needs_background": "light"
     },
     "output_type": "display_data"
    }
   ],
   "source": [
    "MakeWeightsHistPlot(weights_final_galactic,2*10**6,5,np.logspace(-28,-8,20),False)"
   ]
  },
  {
   "cell_type": "code",
   "execution_count": 687,
   "metadata": {},
   "outputs": [
    {
     "data": {
      "image/png": "[encoded data removed]",
      "text/plain": [
       "<Figure size 504x432 with 1 Axes>"
      ]
     },
     "metadata": {
      "needs_background": "light"
     },
     "output_type": "display_data"
    }
   ],
   "source": [
    "MakeWeightsHistPlot(weights_final_extragalactic,2*10**6,5,np.logspace(-51,-45,20),True)"
   ]
  },
  {
   "cell_type": "code",
   "execution_count": 649,
   "metadata": {},
   "outputs": [
    {
     "data": {
      "image/png": "[encoded data removed]",
      "text/plain": [
       "<Figure size 504x432 with 1 Axes>"
      ]
     },
     "metadata": {
      "needs_background": "light"
     },
     "output_type": "display_data"
    }
   ],
   "source": [
    "MakePositionWeightsVEnergyPlot(file_galactic_ebl,file_extragalactic_ebl,weights_r,weightsEG_r,2*10**6,5,True)"
   ]
  },
  {
   "cell_type": "code",
   "execution_count": 34,
   "metadata": {},
   "outputs": [
    {
     "data": {
      "image/png": "[encoded data removed]",
      "text/plain": [
       "<Figure size 504x432 with 1 Axes>"
      ]
     },
     "metadata": {
      "needs_background": "light"
     },
     "output_type": "display_data"
    }
   ],
   "source": [
    "MakeEnergyWeightsVEnergyPlot(file_galactic_ebl,file_extragalactic_ebl,weights_energies,weightsEG_energies,2*10**6,5,True)"
   ]
  },
  {
   "cell_type": "code",
   "execution_count": 631,
   "metadata": {},
   "outputs": [
    {
     "data": {
      "image/png": "[encoded data removed]",
      "text/plain": [
       "<Figure size 504x432 with 1 Axes>"
      ]
     },
     "metadata": {
      "needs_background": "light"
     },
     "output_type": "display_data"
    }
   ],
   "source": [
    "MakeWeightsRatioPlot(file_galactic_ebl,file_extragalactic_ebl,weights_final_galactic,weights_final_extragalactic,2*10**6,5,True)"
   ]
  },
  {
   "cell_type": "code",
   "execution_count": null,
   "metadata": {},
   "outputs": [],
   "source": []
  },
  {
   "cell_type": "code",
   "execution_count": 56,
   "metadata": {},
   "outputs": [
    {
     "name": "stdout",
     "output_type": "stream",
     "text": [
      "[6.53245785e-24 1.26535540e-30 2.39248219e-30 ... 2.86331992e-32\n",
      " 2.48641412e-31 4.59159987e-33]\n"
     ]
    }
   ],
   "source": [
    "print(weights_final_galactic)"
   ]
  },
  {
   "cell_type": "code",
   "execution_count": 125,
   "metadata": {},
   "outputs": [
    {
     "name": "stdout",
     "output_type": "stream",
     "text": [
      "[2.27300998e-40 8.75548024e-47 2.81381105e-48 4.63312805e-49\n",
      " 9.81123498e-50 1.08152624e-49 2.37492931e-50 0.00000000e+00\n",
      " 0.00000000e+00 8.04491995e-51]\n"
     ]
    }
   ],
   "source": [
    "print(np.histogram(np.array([xx[3] for xx in file_extragalactic_ebl if xx[2] == 22]),weights = weights_final_extragalactic)[0])"
   ]
  },
  {
   "cell_type": "code",
   "execution_count": 48,
   "metadata": {},
   "outputs": [
    {
     "data": {
      "text/plain": [
       "(1639493, 9)"
      ]
     },
     "execution_count": 48,
     "metadata": {},
     "output_type": "execute_result"
    }
   ],
   "source": [
    "np.shape(file_galactic_ebl)"
   ]
  },
  {
   "cell_type": "code",
   "execution_count": 37,
   "metadata": {},
   "outputs": [
    {
     "name": "stdout",
     "output_type": "stream",
     "text": [
      "4.0028463787498594e-13\n",
      "1.300769456960941e-42\n",
      "[1.56020329e-27 3.63940961e-27 3.63940961e-27 ... 4.23329454e-27\n",
      " 1.76070037e-27 4.23329454e-27]\n"
     ]
    },
    {
     "data": {
      "image/png": "[encoded data removed]",
      "text/plain": [
       "<Figure size 504x432 with 1 Axes>"
      ]
     },
     "metadata": {
      "needs_background": "light"
     },
     "output_type": "display_data"
    }
   ],
   "source": [
    "MakeGammaDMAttPlot(file_galactic_ebl,file_extragalactic_ebl,weights_final_galactic,weights_final_extragalactic,2*10**6,15)"
   ]
  },
  {
   "cell_type": "code",
   "execution_count": 26,
   "metadata": {},
   "outputs": [
    {
     "name": "stdout",
     "output_type": "stream",
     "text": [
      "4.0028463787498594e-13\n",
      "1.300769456960941e-42\n",
      "[1.56020329e-27 3.63940961e-27 3.63940961e-27 ... 4.23329454e-27\n",
      " 1.76070037e-27 4.23329454e-27]\n"
     ]
    },
    {
     "data": {
      "image/png": "[encoded data removed]",
      "text/plain": [
       "<Figure size 504x432 with 1 Axes>"
      ]
     },
     "metadata": {
      "needs_background": "light"
     },
     "output_type": "display_data"
    }
   ],
   "source": [
    "MakeGammaDMAttEGPlot(file_galactic_ebl,file_extragalactic_ebl,weights_final_galactic,weights_final_extragalactic,2*10**6,5)"
   ]
  },
  {
   "cell_type": "code",
   "execution_count": 89,
   "metadata": {},
   "outputs": [
    {
     "name": "stdout",
     "output_type": "stream",
     "text": [
      "[3.49649242e-27 1.27409070e-26 8.40670141e-27 ... 2.39645213e-27\n",
      " 1.58122632e-27 6.57659358e-28]\n",
      "[3.06938077e-32 1.84961683e-31 1.63777945e-26 ... 2.39645213e-27\n",
      " 1.58122632e-27 6.57659358e-28]\n",
      "[3839602       4       2       1       2       0       1       1       2\n",
      "       1]\n",
      "[0.00000000e+00 0.00000000e+00 0.00000000e+00 1.25520724e-17\n",
      " 2.57314603e-10 2.16593384e-17 8.18326563e-18 1.95320335e-09\n",
      " 1.66130169e-19 7.05175130e-20 3.71676135e-20 8.13920201e-09\n",
      " 5.69608323e-21 9.12157159e-09 1.19289602e-08 6.33263093e-22\n",
      " 7.69520592e-23 1.26820399e-23 6.63771601e-10]\n",
      "[0.00000000e+00 0.00000000e+00 0.00000000e+00 1.25520724e-17\n",
      " 4.22642898e-17 2.16593376e-17 8.18326019e-18 1.61578309e-18\n",
      " 1.66128077e-19 7.05095803e-20 3.71498302e-20 2.19855664e-20\n",
      " 5.69707101e-21 4.06545196e-21 9.26332514e-22 6.20359037e-22\n",
      " 6.50613771e-23 2.66592224e-24 1.55464151e-18]\n",
      "4.0028463787498594e-13\n",
      "1.2978399904351828e-42\n",
      "[3.06938077e-32 1.84961683e-31 1.63777945e-26 ... 2.39645213e-27\n",
      " 1.58122632e-27 6.57659358e-28]\n"
     ]
    },
    {
     "data": {
      "image/png": "[encoded data removed]",
      "text/plain": [
       "<Figure size 504x432 with 1 Axes>"
      ]
     },
     "metadata": {
      "needs_background": "light"
     },
     "output_type": "display_data"
    }
   ],
   "source": [
    "MakeGammaDMAttPlot(file_galactic_cmb,file_extragalactic_cmb,weightsCMB_final_galactic,weightsCMB_final_extragalactic,2*10**6,5,False)"
   ]
  },
  {
   "cell_type": "code",
   "execution_count": null,
   "metadata": {},
   "outputs": [],
   "source": [
    "MakeGammaDMAttPlot(file_galactic_cmb,2*10**6,5)"
   ]
  },
  {
   "cell_type": "markdown",
   "metadata": {},
   "source": [
    "### CRPropa Histograms"
   ]
  },
  {
   "cell_type": "code",
   "execution_count": 260,
   "metadata": {},
   "outputs": [],
   "source": [
    "def MakePositionPlot(file,irb = True):\n",
    "\n",
    "\n",
    "    if irb == True:\n",
    "        string = \"CMB and IRB\"\n",
    "    else: string = \"CMB Only\"\n",
    "        \n",
    "    photo_positions_initial = np.array([xx[6] for xx in file if xx[2] == 22])\n",
    "    \n",
    "    \n",
    "    # make the figure \n",
    "    \n",
    "    fig = plt.figure(figsize=(7,6))\n",
    "    cm = mpl.pyplot.get_cmap('RdPu')\n",
    "    color_min = 0.1\n",
    "    color_max = 0.9\n",
    "    color_range = color_max-color_min\n",
    "    colors = [cm(color_range*i/(8-1)+color_min) for i in range(8)]\n",
    "    \n",
    "    #plt.hist(x,bins = np.logspace(2,6,300),histtype = \"step\",lw = 2, density = False, color = colors[3],label = r\"Initial Spectrum for $\\gamma =$ {gamma}\".format(gamma = gamma),weights = file_injected)\n",
    "    #plt.hist(x,bins = np.logspace(2,6,300),histtype = \"step\",lw = 2, density = True, color = colors[5],label = r\"Attenuated Spectrum for $\\gamma =$ {gamma}\".format(gamma = gamma),weights = file_attenuated)\n",
    "    #plt.hist(x,bins = np.logspace(1,6,300),histtype = \"step\",lw = 2,density = False,color = colors[7],label = r\"Reweighted DM Spectrum\",weights = (spectrum/(x**(gamma)*np.exp((-x/(10**8)))))*file_attenuated)\n",
    "    plt.hist(photo_positions_initial,\n",
    "             histtype=\"step\", lw = 2, density = False, color = colors[3],label = r\"Positions at source\")\n",
    "    #plt.hist(photo_energies_trajectories, bins = np.logspace(1,3,10),\n",
    "    #         histtype=\"step\", lw = 2, density = True, color = colors[6],label = r\"Original Distribution\")\n",
    "    #plt.hist(x,bins = np.logspace(1,6,300),histtype = \"step\",lw = 2,density = False,color = colors[7],label = r\"Reweighted DM Spectrum\",weights = (spectrum/(x**(gamma)*np.exp((-x/(10**8)))))*file_attenuated)\n",
    "    #plt.hist(x,bins = np.logspace(1,6,300),histtype = \"step\",lw = 2,density = False,color = colors[7],label = r\"Reweighted DM Spectrum\",weights = (spectrum*x**2/(file_injected))*file_attenuated)\n",
    "    #plt.hist(x, bins = np.logspace(1,6,300),histtype=\"step\", lw = 2, density = False,color ='orange',label = r\"Initial DM Spectrum \\par from HDMSpectra\",weights = spectrum)\n",
    "    \n",
    "    plt.legend(bbox_to_anchor=(.90, .95), loc='upper left', borderaxespad=0.,frameon = True,shadow = True)\n",
    "    #plt.ylim(10**21,10**26)\n",
    "    #plt.semilogy()\n",
    "    #plt.semilogx()\n",
    "    #plt.xlim(1e1,1e3)\n",
    "    #plt.ylim(1e-15,1e-6)\n",
    "    #plt.ylim(1e2,1e6)\n",
    "    plt.title(string+r\",Positions at Source (Mpc)\",fontsize = 16)\n",
    "    plt.ylabel(r\"Number of Events\",fontsize = 16)\n",
    "    #plt.title(r\"CMB and IRB, DM Spectrum for $\\chi \\rightarrow$\"+state,fontsize = 20)\n",
    "    plt.savefig(\"/Users/barbaraskrzypek/Documents/DMPositions){irb}.pdf\".format(irb = irb),dpi = 400,bbox_inches = \"tight\")\n",
    "    \n",
    "    #return rw"
   ]
  },
  {
   "cell_type": "code",
   "execution_count": 289,
   "metadata": {},
   "outputs": [
    {
     "data": {
      "image/png": "[encoded data removed]",
      "text/plain": [
       "<Figure size 504x432 with 1 Axes>"
      ]
     },
     "metadata": {
      "needs_background": "light"
     },
     "output_type": "display_data"
    }
   ],
   "source": [
    "MakePositionPlot(file_galactic_ebl,True)"
   ]
  },
  {
   "cell_type": "code",
   "execution_count": 262,
   "metadata": {},
   "outputs": [
    {
     "data": {
      "image/png": "[encoded data removed]",
      "text/plain": [
       "<Figure size 504x432 with 1 Axes>"
      ]
     },
     "metadata": {
      "needs_background": "light"
     },
     "output_type": "display_data"
    }
   ],
   "source": [
    "MakePositionPlot(file_galactic_cmb,False)"
   ]
  },
  {
   "cell_type": "code",
   "execution_count": 316,
   "metadata": {},
   "outputs": [
    {
     "data": {
      "image/png": "[encoded data removed]",
      "text/plain": [
       "<Figure size 504x432 with 1 Axes>"
      ]
     },
     "metadata": {
      "needs_background": "light"
     },
     "output_type": "display_data"
    }
   ],
   "source": [
    "MakePositionPlot(file_extragalactic_cmb,False)"
   ]
  },
  {
   "cell_type": "code",
   "execution_count": 291,
   "metadata": {},
   "outputs": [
    {
     "data": {
      "image/png": "[encoded data removed]",
      "text/plain": [
       "<Figure size 504x432 with 1 Axes>"
      ]
     },
     "metadata": {
      "needs_background": "light"
     },
     "output_type": "display_data"
    }
   ],
   "source": [
    "MakePositionPlot(file_extragalactic_ebl,True)"
   ]
  },
  {
   "cell_type": "code",
   "execution_count": null,
   "metadata": {},
   "outputs": [],
   "source": []
  }
 ],
 "metadata": {
  "kernelspec": {
   "display_name": "Python 3",
   "language": "python",
   "name": "python3"
  },
  "language_info": {
   "codemirror_mode": {
    "name": "ipython",
    "version": 3
   },
   "file_extension": ".py",
   "mimetype": "text/x-python",
   "name": "python",
   "nbconvert_exporter": "python",
   "pygments_lexer": "ipython3",
   "version": "3.8.5"
  }
 },
 "nbformat": 4,
 "nbformat_minor": 4
}
