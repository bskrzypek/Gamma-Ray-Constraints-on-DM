{
 "cells": [
  {
   "cell_type": "markdown",
   "metadata": {},
   "source": [
    "# Dark Matter Spectra Reweighted from CRPropa"
   ]
  },
  {
   "cell_type": "code",
   "execution_count": 1,
   "metadata": {},
   "outputs": [],
   "source": [
    "from __future__ import print_function\n",
    "\n",
    "%matplotlib inline\n",
    "%load_ext autoreload\n",
    "%autoreload 2\n",
    "\n",
    "# Load HDMSpectra\n",
    "from HDMSpectra import HDMSpectra\n",
    "\n",
    "import numpy as np\n",
    "#import scipy as sp\n",
    "#import scipy.interpolate as interpolate\n",
    "#import scipy.integrate as integrate\n",
    "#import scipy.stats as stats\n",
    "import matplotlib.pyplot as plt\n",
    "import matplotlib as mpl\n",
    "import scipy.integrate as integrate\n",
    "from scipy.integrate import quad\n",
    "mpl.rcParams['text.usetex'] = True\n",
    "mpl.rcParams['font.family'] = 'serif' \n",
    "mpl.rcParams['xtick.labelsize'] = 26\n",
    "mpl.rcParams['ytick.labelsize'] = 26\n",
    "mpl.rcParams['xtick.major.size'] = 5\n",
    "mpl.rcParams['xtick.minor.size'] = 2.5\n",
    "mpl.rcParams['xtick.major.width'] = 1.0\n",
    "mpl.rcParams['xtick.minor.width'] = 0.75\n",
    "mpl.rcParams['xtick.major.pad'] = 8\n",
    "mpl.rcParams['xtick.direction'] = 'in'\n",
    "mpl.rcParams['ytick.major.size'] = 5\n",
    "mpl.rcParams['ytick.minor.size'] = 2.5\n",
    "mpl.rcParams['ytick.major.width'] = 1.0\n",
    "mpl.rcParams['ytick.minor.width'] = 0.75\n",
    "mpl.rcParams['ytick.major.pad'] = 8\n",
    "mpl.rcParams['ytick.direction'] = 'in'\n",
    "mpl.rcParams['legend.fontsize'] = 26\n",
    "mpl.rcParams['legend.frameon'] = False\n",
    "import seaborn as sns\n",
    "plt.style.use('/Users/barbaraskrzypek/Documents/IceCube/LVNeutrinos/LV/paper.mplstyle')"
   ]
  },
  {
   "cell_type": "markdown",
   "metadata": {},
   "source": [
    "## Dark Matter Spectra "
   ]
  },
  {
   "cell_type": "code",
   "execution_count": 2,
   "metadata": {},
   "outputs": [],
   "source": [
    "data = '/Users/barbaraskrzypek/Documents/IceCube/EBL/HDMSpectra/data/HDMSpectra.hdf5' # location of hdf5 file"
   ]
  },
  {
   "cell_type": "markdown",
   "metadata": {},
   "source": [
    "## CRPropa Spectra "
   ]
  },
  {
   "cell_type": "code",
   "execution_count": 292,
   "metadata": {},
   "outputs": [],
   "source": [
    "file_galactic_cmb = np.genfromtxt(\"PhotonSpectra/crpropa_photon_output_PowerLawCosmologicalEvolution_10_0.1_False.txt\")\n",
    "file_galactic_ebl = np.genfromtxt(\"PhotonSpectra/crpropa_photon_output_PowerLawCosmologicalEvolution_10_0.1_True.txt\")\n",
    "\n",
    "file_extragalactic_cmb = np.genfromtxt(\"PhotonSpectra/crpropa_photon_output_PowerLawCosmologicalEvolution_10_10.0_False.txt\")\n",
    "file_extragalactic_ebl = np.genfromtxt(\"PhotonSpectra/crpropa_photon_output_PowerLawCosmologicalEvolution_10_10.0_True.txt\")\n"
   ]
  },
  {
   "cell_type": "markdown",
   "metadata": {},
   "source": [
    "## Weights "
   ]
  },
  {
   "cell_type": "markdown",
   "metadata": {},
   "source": [
    "### Galactic Weights\n",
    "\n",
    "To get the galactic spectrum weights, we sum over initial photon positions multiplied by the Navarro-Frenk-White DM density profile in the following way: \n",
    "\n",
    "$$\\frac{d\\phi}{dEd\\Omega} = \\frac{1}{4\\pi m_{DM} \\tau_{DM}}\\frac{dN}{dE_{\\gamma}}\\sum \\Delta r \\times \\rho^{\\text{NFW}}(r),$$\n",
    "\n",
    "where the NFW profile is defined as \n",
    "\n",
    "$$\\rho^{\\text{NFW}}(r) = \\frac{\\rho_s}{r/r_s\\big(1+r/r_s\\big)^2},$$\n",
    "\n",
    "with $r_s = 24$ kpc and $\\rho_s = 0.18$ GeV/cm$^3$. We propagate galactic photons from 0 to 100 kpc with a cosmological redshift evolution and an initial power law spectrum following \n",
    "\n",
    "$$ \\phi \\propto \\Big(\\frac{E}{E_c}\\Big)^{-1}$$\n",
    "\n",
    "with $E_c = 10^7$ GeV and $E_{\\text{min}} = 100$ GeV. In the function below, we then factorize the weights into two componts:\n",
    "\n",
    "$$\\text{weights} = \\text{weights_position}\\times \\text{weights_energy}$$\n",
    "\n",
    "where weights_position is the sum over the initial photon distances and weights_energy is the contribution from the dark matter number density, depending on energy, along with the factor of one over the initial photon spectrum and the final energy squared:\n",
    "\n",
    "$$\\text{weights_position} =  \\frac{1}{4\\pi m_{DM} \\tau_{DM}} \\sum \\Delta r \\times \\rho(r),$$\n",
    "\n",
    "$$\\text{weights_energy} = \\frac{dN_{DM}}{dE_{\\gamma}}\\Big(\\frac{E_i}{E_c}\\Big)E_f^2$$\n",
    "\n",
    "The product of these weights is then applied to the final spectrum from CRPropa:\n",
    "\n",
    "$$ \\text{reweighted spectrum} = \\text{weights_position}\\times\\text{weights_energy}\\times \\Big(\\frac{dN_f}{dE_{\\gamma}}\\Big)_{\\text{CRPropa}}$$"
   ]
  },
  {
   "cell_type": "code",
   "execution_count": 165,
   "metadata": {},
   "outputs": [],
   "source": [
    "kpcTocm = 3.086*10**21\n",
    "rs = 24 #in kpc \n",
    "def weights_galactic(r,mDM,tauDM):\n",
    "    c = (1/(4*(np.pi)*mDM*tauDM))\n",
    "    f = 0.18/((r/rs)*(1+r/rs)**2)\n",
    "    rho = c*f\n",
    "    return rho"
   ]
  },
  {
   "cell_type": "code",
   "execution_count": 168,
   "metadata": {},
   "outputs": [
    {
     "data": {
      "text/plain": [
       "3.4348837713081945e-33"
      ]
     },
     "execution_count": 168,
     "metadata": {},
     "output_type": "execute_result"
    }
   ],
   "source": [
    "weights_galactic(0.01,10**6,10**28)"
   ]
  },
  {
   "cell_type": "markdown",
   "metadata": {},
   "source": [
    "### Extragalactic weights\n",
    "\n",
    "To obtain the extragalactic weights, we similarly sum over initial photon positions starting from 100 kpc. The spectra are calculated in the following way: \n",
    "\n",
    "$$ \\frac{d\\phi}{dE d\\Omega} = \\frac{\\Omega_{DM}\\rho_c}{4\\pi m_{DM}\\tau_{DM}}\\sum \\Delta z \\frac{1}{H(z)}\\frac{dN}{dE^{\\prime}}$$\n",
    "\n",
    "where the critical energy density $\\rho_c = 5.5\\times 10^{-6}$ GeV/cm$^3$ and $E^{\\prime} = E(1+z).$ We start with the same power-law spectrum shown above, with the exception that we propagate over distances of 100 kpc to 10 Mpc. We then facrorize the weights in a similar way to the galactic case: \n",
    "\n",
    "$$\\text{weights} = \\text{weights_position}\\times \\text{weights_energy}$$\n",
    "\n",
    "where weights_position is the sum over the initial photon redshifts and weights_energy is the contribution from the dark matter number density, depending on energy, along with the factor of one over the initial photon spectrum and the final energy squared:\n",
    "\n",
    "$$ \\text{weights_position} =  \\frac{\\Omega_{DM}\\rho_c}{4\\pi m_{DM}\\tau_{DM}}\\sum \\Delta z \\frac{1}{H(z)(1+z)}$$\n",
    "\n",
    "$$ \\text{weights_energy} = \\frac{dN_{DM}}{dE_{\\gamma}}\\Big(\\frac{E_i}{E_c}\\Big)E_f^2$$\n",
    "\n",
    "The product of these weights is then applied to the final spectrum from CRPropa:\n",
    "\n",
    "$$ \\text{reweighted spectrum} = \\text{weights_position}\\times\\text{weights_energy}\\times \\Big(\\frac{dN_f}{dE_{\\gamma}}\\Big)_{\\text{CRPropa}}$$"
   ]
  },
  {
   "cell_type": "code",
   "execution_count": 225,
   "metadata": {},
   "outputs": [],
   "source": [
    "rho_c = 5.5*10**(-6) #in units GeV/cm^3\n",
    "omega_DM = 0.23\n",
    "omega_m = 0.27\n",
    "c = 3*10**5 #in km/s\n",
    "H0 = 67.7 #in (km/s)/(Mpc)\n",
    "def H(z):\n",
    "    h = np.sqrt(omega_m*(1+z)**3+(1-omega_m))\n",
    "    return h\n",
    "def weights_extragalactic(r,mDM,tauDM): \n",
    "    c = (1/(4*(np.pi)*mDM*tauDM)) \n",
    "    z = (H0*r/c)*10**(-3) #converts distance in kpc to redshift \n",
    "    f = 1/(H0*H(z)*(1+z)) \n",
    "    return c*f"
   ]
  },
  {
   "cell_type": "code",
   "execution_count": 226,
   "metadata": {},
   "outputs": [
    {
     "data": {
      "text/plain": [
       "1.0715766791705258e-129"
      ]
     },
     "execution_count": 226,
     "metadata": {},
     "output_type": "execute_result"
    }
   ],
   "source": [
    "weights_extragalactic(1000,10**6,10**28)"
   ]
  },
  {
   "cell_type": "markdown",
   "metadata": {},
   "source": [
    "## Plots "
   ]
  },
  {
   "cell_type": "markdown",
   "metadata": {},
   "source": [
    "### Initial & Attenuated Spectra from CRPropa"
   ]
  },
  {
   "cell_type": "code",
   "execution_count": 311,
   "metadata": {},
   "outputs": [],
   "source": [
    "#makes a plot showing the initial and attenuated spectra from CRPropa\n",
    "\n",
    "def MakeInjPlot(file,gamma,irb = True): \n",
    "    \n",
    "    if irb == True: \n",
    "        string = \"CMB and IRB\"\n",
    "    else: string = \"CMB Only\"\n",
    "    \n",
    "    #energies\n",
    "    \n",
    "    photo_energies_initial = np.array([xx[5] for xx in file if xx[2] == 22])\n",
    "    photo_energies_final = np.array([xx[3] for xx in file if xx[2] == 22])\n",
    "    \n",
    "    #energy binning: \n",
    "    \n",
    "    lEbins = np.logspace(2,6,40) #logarithmic bins \n",
    "    lEcens = (lEbins[1:] + lEbins[:-1]) / 2 #logarithmic bin centers\n",
    "    dE = lEbins[1:] - lEbins[:-1] #bin widths \n",
    "    \n",
    "    # make the figure \n",
    "    \n",
    "    fig = plt.figure(figsize=(7,6))\n",
    "    cm = mpl.pyplot.get_cmap('RdPu')\n",
    "    color_min = 0.1\n",
    "    color_max = 0.9\n",
    "    color_range = color_max-color_min\n",
    "    colors = [cm(color_range*i/(8-1)+color_min) for i in range(8)]\n",
    "    \n",
    "    plt.hist(photo_energies_initial*10**(9), bins = np.logspace(2,6,40),\n",
    "             histtype=\"step\", lw = 2, density = True, color = colors[3],label = r\"$\\gamma =$ {gamma} initial\".format(gamma = gamma),weights = photo_energies_initial**2)\n",
    "    #y = np.histogram(photo_energies_original*10**(9), bins = np.logspace(2,6,36), density = False, weights = photo_energies_original*10**9**2)\n",
    "    plt.hist(photo_energies_final*10**9, bins = np.logspace(2,6,40),\n",
    "             histtype=\"step\", lw = 2, density = True, color = colors[5],label = r\"$\\gamma =$ {gamma} (final)\".format(gamma = gamma),weights = (photo_energies_final*10**9)**2)\n",
    "\n",
    "    plt.legend(bbox_to_anchor=(.90, .95), loc='upper left', borderaxespad=0.,frameon = True,shadow = True)\n",
    "    #plt.ylim(10**21,10**26)\n",
    "    plt.semilogy()\n",
    "    plt.semilogx()\n",
    "    plt.xlim(1e2,1e7)\n",
    "    #plt.ylim(1e2,1e6)\n",
    "    plt.xlabel(r\"$E_\\gamma$/GeV\",fontsize = 16)\n",
    "    plt.ylabel(r\"$E^2 dN/dE$\",fontsize = 16)\n",
    "    plt.title(string,fontsize = 20)\n",
    "    plt.savefig(\"/Users/barbaraskrzypek/Documents/PowerLawSpectraInj_{gamma1}.pdf\".format(gamma1=int(gamma*10)),dpi = 400,bbox_inches = \"tight\")\n",
    "    \n",
    "    #return rw"
   ]
  },
  {
   "cell_type": "markdown",
   "metadata": {},
   "source": [
    "### Fermi-LAT and IceCube data "
   ]
  },
  {
   "cell_type": "code",
   "execution_count": 120,
   "metadata": {},
   "outputs": [],
   "source": [
    "# FERMI PART\n",
    "fermi = np.genfromtxt(\"./modelA_integrated_fluxes.txt\")\n",
    "e_fermi_GeV = (fermi[:,0] + fermi[:,1])*1.0e-3/2.\n",
    "upper_limits = [False]*len(e_fermi_GeV)"
   ]
  },
  {
   "cell_type": "code",
   "execution_count": 121,
   "metadata": {},
   "outputs": [],
   "source": [
    "bins = np.logspace(np.log10(19952.6), np.log10(3.16228e8), 14) \n",
    "bins = bins[1:9]\n",
    "enu = np.logspace(np.log10(bins[0]), 8, 500)\n",
    "# Plot the segmented powerlaw flux\n",
    "def flux(energy, norm, index=2.):\n",
    "    energyIn100TeV = energy/1e5\n",
    "    return norm*1e-18*(energyIn100TeV)**(-index)\n",
    "xmin = bins[0]\n",
    "xmax = bins[-1]\n",
    "energy_centers = np.power(10, (lambda x: (x[:-1]+x[1:])/2.)(np.log10(bins)))\n",
    "intervals = np.array([(0.0, 143.54622664666903, 500.0), (0.0, 2.123691768833845, 5.635437314697244), (4.948055179047638, 6.382657005897758, 8.002066239102458), (0.0, 0.5177890921151547, 1.553873383727041), (0.0, 0.2634178446276476, 1.1728578975033623), (0.9183994046204971, 1.8237591302698424, 3.046362634593988), (0.0, 0.486221306109142, 1.570990230774263), (0.0, 0.0, 0.1869868977346414), (0.0, 0.0, 1.6417124479048653), (0.0, 122.96672124580368, 500.0), (0.0, 80.46916717685278, 500.0), (0.0, 224.50607289774382, 500.0), (0.0, 126.68963542182684, 500.0)])[1:8]\n",
    "intervals = flux(energy_centers[:,None], intervals, 2.)*((energy_centers**2.0)[:,None])\n",
    "y = np.array([x[1] for x in intervals])\n",
    "q_low = np.array([q_low for q_low, _, _ in intervals])\n",
    "q_high = np.array([q_high for _, _, q_high in intervals])\n",
    "q_max= np.array([q_max for _, q_max, _ in intervals])\n",
    "y_low = q_max-q_low\n",
    "y_high = q_high-q_max\n",
    "yerr = np.array([y_low, y_high])\n",
    "xerr = np.array([energy_centers-bins[:-1], bins[1:]-energy_centers])"
   ]
  },
  {
   "cell_type": "markdown",
   "metadata": {},
   "source": [
    "### DM Reweighting Plots  "
   ]
  },
  {
   "cell_type": "code",
   "execution_count": 333,
   "metadata": {},
   "outputs": [],
   "source": [
    "#makes a plot showing the galactic, extragalactic, and combined reweighted DM spectra \n",
    "\n",
    "def MakeGammaDMAttPlot(file_galactic,file_extragalactic,mDM,initial_state,irb = True):\n",
    "    \n",
    "    kpcTocm = 3.086*10**21\n",
    "    \n",
    "    if irb == True:\n",
    "        string = \"CMB and EBL\"\n",
    "    else: string = \"CMB Only\"\n",
    "    \n",
    "    #particle ID:\n",
    "    if initial_state == 5:\n",
    "        state = r\"$b\\bar{b}$\"\n",
    "    if initial_state == 15:\n",
    "        state = r\"$\\tau^{+}\\tau^{-}$\"\n",
    "    if initial_state == 24:\n",
    "        state = r\"$W^{+}W^{-}$\"\n",
    "    if initial_state == 13:\n",
    "        state = r\"$\\mu^{+}\\mu^{-}$\"\n",
    "        \n",
    "    #Photon Energies\n",
    "    \n",
    "    photo_energies_initial = np.array([xx[5] for xx in file_galactic if xx[2] == 22])\n",
    "    photo_energies_final = np.array([xx[3] for xx in file_galactic if xx[2] == 22])\n",
    "    photo_positions_initial = np.array([xx[6] for xx in file_galactic if xx[2] == 22])\n",
    "    \n",
    "    photoEG_energies_initial = np.array([xx[5] for xx in file_extragalactic if xx[2] == 22])\n",
    "    photoEG_energies_final = np.array([xx[3] for xx in file_extragalactic if xx[2] == 22])\n",
    "    photoEG_positions_initial = np.array([xx[6] for xx in file_extragalactic if xx[2] == 22])\n",
    "    \n",
    "    #DM Spectrum:\n",
    "    \n",
    "    # Specify the particles & parameters \n",
    "    finalstate = 22 # pdg id of the photon\n",
    "    initialstate = initial_state # pdg id of the b-quark\n",
    "    x = np.logspace(1,6,50) # Energy values\n",
    "    R_galactic = np.linspace(0.001,0.1,100) #initial galactic positions in Mpc\n",
    "    R_extragalactic = np.linspace(0.1,10,100) #initial extragalactic positions in Mpc\n",
    "    dR_galactic = (0.1-0.001)/100\n",
    "    dR_extragalactic = (10-0.1)/100\n",
    "    \n",
    "    #energy binning \n",
    "    \n",
    "    lEbins = np.logspace(1,6,50) #logarithmic bins \n",
    "    lEcens = (lEbins[1:] + lEbins[:-1]) / 2 #logarithmic bin centers\n",
    "    dE = lEbins[1:] - lEbins[:-1] #bin widths \n",
    "    \n",
    "    # Extract & reweight the spectrum using HDMSpectra.spec\n",
    "    dNdx = HDMSpectra.spec(finalstate, initialstate, x*2/mDM, mDM, data)\n",
    "    spectrum = dNdx*(2/mDM)\n",
    "    galactic_sum = 0 \n",
    "    for i in range(len(R_galactic)-1):\n",
    "        r = R_galactic[i]*10**(3) #convert Mpc to kpc\n",
    "        galactic_sum += weights_galactic(r,mDM,10**28)*dR_galactic*10**(3)*kpcTocm\n",
    "    print(galactic_sum)\n",
    "    extragalactic_sum = 0\n",
    "    for i in range(len(R_extragalactic)-1):\n",
    "        r = R_extragalactic[i]*10**(3) #convert Mpc to kpc\n",
    "        dR = dR_galactic*H0/c #converts Mpc to redshift \n",
    "        extragalactic_sum += weights_extragalactic(r,mDM,10**28)*dR\n",
    "    print(extragalactic_sum)\n",
    "    spectrum_weighted = spectrum*(galactic_sum+extragalactic_sum)\n",
    "    \n",
    "    #weights\n",
    "    photo_energies_initial *= 10**9\n",
    "    photo_energies_final *= 10**9\n",
    "    weights_r = np.zeros_like(photo_energies_final)\n",
    "    for i in range(len(R_galactic) - 1):\n",
    "        r = (R_galactic[i]+R_galactic[i+1])/2 #takes the midpoint of each bin\n",
    "        r *= 10e3\n",
    "        delta_r = R_galactic[i+1]-R_galactic[i]\n",
    "        delta_r *= 10e3 #convert Mpc to kpc\n",
    "        #boolean array that selects the events in a given bin\n",
    "        bin_bool = (photo_positions_initial >= R_galactic[i]) & (photo_positions_initial < R_galactic[i+1])\n",
    "        #\n",
    "        photo_positions_initial_bin = photo_positions_initial[bin_bool]\n",
    "        photo_energies_final_bin = photo_energies_final[bin_bool]\n",
    "        weights_final_bin = np.ones_like(photo_energies_final_bin)*weights_galactic(r,mDM,10**28)*delta_r*kpcTocm\n",
    "        weights_r[bin_bool] = weights_final_bin\n",
    "    \n",
    "    weightsEG_r = np.zeros_like(photoEG_energies_final)\n",
    "    photoEG_energies_initial *= 10**9\n",
    "    photoEG_energies_final *= 10**9\n",
    "    for i in range(len(R_extragalactic) - 1):\n",
    "        r = (R_extragalactic[i]+R_extragalactic[i+1])/2\n",
    "        r *= 10e3 #converts Mpc to kpc\n",
    "        delta_r = R_extragalactic[i+1]-R_extragalactic[i]\n",
    "        delta_r *= H0/c #converts Mpc to redshift \n",
    "        #boolean array that selects the events in a given bin\n",
    "        bin_bool = (photoEG_positions_initial >= R_extragalactic[i]) & (photoEG_positions_initial < R_extragalactic[i+1])\n",
    "        #\n",
    "        photo_positions_initial_bin = photoEG_positions_initial[bin_bool]\n",
    "        photo_energies_final_bin = photoEG_energies_final[bin_bool]\n",
    "        weights_final_bin = np.ones_like(photo_energies_final_bin)*weights_extragalactic(r,mDM,10**28)*delta_r\n",
    "        weightsEG_r[bin_bool] = weights_final_bin\n",
    "        \n",
    "    weights_energies = np.zeros_like(photo_energies_final)\n",
    "    for i in range(len(lEcens) - 1):\n",
    "        #boolean array that selects the events in a given bin\n",
    "        bin_bool = (photo_energies_final >= lEcens[i]) & (photo_energies_final < lEcens[i+1])\n",
    "        #\n",
    "        photo_energies_final_bin = photo_energies_final[bin_bool]\n",
    "        photo_energies_initial_bin = photo_energies_initial[bin_bool]\n",
    "        weights_final_bin = np.ones_like(photo_energies_final_bin)*(spectrum[i])*((photo_energies_initial_bin/(10**7))**(1))*(photo_energies_final_bin)**2\n",
    "        weights_energies[bin_bool] = weights_final_bin\n",
    "        \n",
    "    weightsEG_energies = np.zeros_like(photoEG_energies_final)\n",
    "    for i in range(len(lEcens) - 1):\n",
    "        #boolean array that selects the events in a given bin\n",
    "        bin_bool = (photoEG_energies_final >= lEcens[i]) & (photoEG_energies_final < lEcens[i+1])\n",
    "        #\n",
    "        photo_energies_final_bin = photoEG_energies_final[bin_bool]\n",
    "        photo_energies_initial_bin = photoEG_energies_initial[bin_bool]\n",
    "        weightsEG_final_bin = np.ones_like(photo_energies_final_bin)*(spectrum[i])*((photo_energies_initial_bin/(10**7))**(1))*(photo_energies_final_bin)**2\n",
    "    \n",
    "    weights_final_galactic = weights_r*weights_energies\n",
    "    weights_final_extragalactic = weightsEG_r*weightsEG_energies\n",
    "    print(weights_final_galactic)\n",
    "    print(weights_final_extragalactic)\n",
    "    print(spectrum_weighted)\n",
    "    \n",
    "    # make the figure \n",
    "    \n",
    "    fig = plt.figure(figsize=(7,6))\n",
    "    cm = mpl.pyplot.get_cmap('RdPu')\n",
    "    color_min = 0.1\n",
    "    color_max = 0.9\n",
    "    color_range = color_max-color_min\n",
    "    colors = [cm(color_range*i/(8-1)+color_min) for i in range(8)]\n",
    "    \n",
    "    h1 = np.histogram(photo_energies_final, bins = np.logspace(1,6,51),weights = weights_final_galactic)\n",
    "    h2 = np.histogram(photoEG_energies_final, bins = np.logspace(1,6,51),weights = weights_final_extragalactic)\n",
    "    \n",
    "    #plt.hist(x,bins = np.logspace(2,6,300),histtype = \"step\",lw = 2, density = False, color = colors[3],label = r\"Initial Spectrum for $\\gamma =$ {gamma}\".format(gamma = gamma),weights = file_injected)\n",
    "    #plt.hist(x,bins = np.logspace(2,6,300),histtype = \"step\",lw = 2, density = True, color = colors[5],label = r\"Attenuated Spectrum for $\\gamma =$ {gamma}\".format(gamma = gamma),weights = file_attenuated)\n",
    "    plt.hist(photo_energies_final, bins = np.logspace(1,6,50),\n",
    "             histtype=\"step\", lw = 2, density = False, color = colors[2],label = r\"Reweighted DM Spectrum (Galactic)\",weights = weights_final_galactic)\n",
    "    plt.hist(photoEG_energies_final, bins = np.logspace(1,6,50),\n",
    "             histtype=\"step\", lw = 2, density = False, color = colors[4],label = r\"Reweighted DM Spectrum (Extragalactic)\",weights = weights_final_extragalactic)\n",
    "    plt.hist(x, bins = np.logspace(1,6,50),\n",
    "             histtype=\"step\", lw = 2, density = False, color = colors[6],label = r\"Reweighted DM Spectrum (Both)\",weights = h1[0]+h2[0])\n",
    "    #plt.hist(x,bins = np.logspace(1,6,300),histtype = \"step\",lw = 2,density = False,color = colors[7],label = r\"Reweighted DM Spectrum\",weights = (spectrum/(x**(gamma)*np.exp((-x/(10**8)))))*file_attenuated)\n",
    "    #plt.hist(x,bins = np.logspace(1,6,300),histtype = \"step\",lw = 2,density = False,color = colors[7],label = r\"Reweighted DM Spectrum\",weights = (spectrum*x**2/(file_injected))*file_attenuated)\n",
    "    #plt.hist(x, bins = np.logspace(1,6,50),histtype=\"step\", lw = 2, density = False,color ='orange',label = r\"Initial DM Spectrum \\par from HDMSpectra \\par (Galactic Component Only)\",weights = spectrum_weighted)\n",
    "    \n",
    "    #plt.errorbar(lEcens,yhist[0],yerr = dy,fmt = 'o',color = 'blue',alpha = 0.4)\n",
    "    plt.errorbar(energy_centers, np.array(y), xerr=np.array(xerr), yerr=np.array([y_low, y_high]),\n",
    "             color='black', marker='o',\n",
    "             markerfacecolor=colors[6],\n",
    "             linestyle='None', capsize=3,\n",
    "             markersize = 6,\n",
    "             elinewidth=1., label = \"Neutrinos (HESE 7.5yr, this work)\", zorder = 3) \n",
    "    plt.errorbar(e_fermi_GeV, fermi[:,2]*e_fermi_GeV,\n",
    "             xerr=np.array([np.abs(fermi[:,0]*1.0e-3-e_fermi_GeV),\n",
    "                            np.abs(fermi[:,1]*1.0e-3-e_fermi_GeV)]),\n",
    "             yerr=np.array([np.abs(fermi[:,3]*e_fermi_GeV),\n",
    "                            np.abs(fermi[:,4]*e_fermi_GeV)]),\n",
    "             uplims = upper_limits,\n",
    "             color='black',\n",
    "             markerfacecolor=colors[4], marker='^',\n",
    "             linestyle='None', capsize=2,\n",
    "             markersize = 8,\n",
    "             elinewidth=1., label = \"Gamma rays (Fermi 2017)\", zorder = 3)\n",
    "    plt.legend(bbox_to_anchor=(.90, .95), loc='upper left', borderaxespad=0.,frameon = True,shadow = True)\n",
    "    #plt.ylim(10**21,10**26)\n",
    "    plt.semilogy()\n",
    "    plt.semilogx()\n",
    "    plt.xlim(1e2,1e7)\n",
    "    #plt.ylim(1e-15,1e-6)\n",
    "    #plt.ylim(1e2,1e6)\n",
    "    plt.xlabel(r\"$E_\\gamma$/GeV\",fontsize = 16)\n",
    "    plt.ylabel(r\"$E^2 d\\phi/dE$\",fontsize = 16)\n",
    "    plt.title(string+r\", DM Spectrum for $\\chi \\rightarrow$\"+state,fontsize = 20)\n",
    "    plt.savefig(\"/Users/barbaraskrzypek/Documents/DMSpectraAtt_{particle}.pdf\".format(particle = initial_state),dpi = 400,bbox_inches = \"tight\")\n",
    "    \n",
    "    #return rw"
   ]
  },
  {
   "cell_type": "code",
   "execution_count": null,
   "metadata": {},
   "outputs": [],
   "source": []
  },
  {
   "cell_type": "code",
   "execution_count": null,
   "metadata": {},
   "outputs": [],
   "source": []
  },
  {
   "cell_type": "code",
   "execution_count": 313,
   "metadata": {},
   "outputs": [
    {
     "data": {
      "image/png": "[encoded data removed]",
      "text/plain": [
       "<Figure size 504x432 with 1 Axes>"
      ]
     },
     "metadata": {
      "needs_background": "light"
     },
     "output_type": "display_data"
    }
   ],
   "source": [
    "MakeInjPlot(file_galactic_ebl,-1,True)"
   ]
  },
  {
   "cell_type": "code",
   "execution_count": null,
   "metadata": {},
   "outputs": [],
   "source": []
  },
  {
   "cell_type": "code",
   "execution_count": 315,
   "metadata": {},
   "outputs": [
    {
     "data": {
      "image/png": "[encoded data removed]",
      "text/plain": [
       "<Figure size 504x432 with 1 Axes>"
      ]
     },
     "metadata": {
      "needs_background": "light"
     },
     "output_type": "display_data"
    }
   ],
   "source": [
    "MakeInjPlot(file_extragalactic_ebl,-1,True)"
   ]
  },
  {
   "cell_type": "code",
   "execution_count": 318,
   "metadata": {},
   "outputs": [
    {
     "name": "stdout",
     "output_type": "stream",
     "text": [
      "[1.79747 1.79747 1.79747 ... 6.56877 6.56877 6.56877]\n"
     ]
    }
   ],
   "source": [
    "print(np.array([xx[6] for xx in file_extragalactic_ebl if xx[2] == 22]))"
   ]
  },
  {
   "cell_type": "code",
   "execution_count": 270,
   "metadata": {},
   "outputs": [
    {
     "data": {
      "text/plain": [
       "array([0.001, 0.002, 0.003, 0.004, 0.005, 0.006, 0.007, 0.008, 0.009,\n",
       "       0.01 , 0.011, 0.012, 0.013, 0.014, 0.015, 0.016, 0.017, 0.018,\n",
       "       0.019, 0.02 , 0.021, 0.022, 0.023, 0.024, 0.025, 0.026, 0.027,\n",
       "       0.028, 0.029, 0.03 , 0.031, 0.032, 0.033, 0.034, 0.035, 0.036,\n",
       "       0.037, 0.038, 0.039, 0.04 , 0.041, 0.042, 0.043, 0.044, 0.045,\n",
       "       0.046, 0.047, 0.048, 0.049, 0.05 , 0.051, 0.052, 0.053, 0.054,\n",
       "       0.055, 0.056, 0.057, 0.058, 0.059, 0.06 , 0.061, 0.062, 0.063,\n",
       "       0.064, 0.065, 0.066, 0.067, 0.068, 0.069, 0.07 , 0.071, 0.072,\n",
       "       0.073, 0.074, 0.075, 0.076, 0.077, 0.078, 0.079, 0.08 , 0.081,\n",
       "       0.082, 0.083, 0.084, 0.085, 0.086, 0.087, 0.088, 0.089, 0.09 ,\n",
       "       0.091, 0.092, 0.093, 0.094, 0.095, 0.096, 0.097, 0.098, 0.099,\n",
       "       0.1  ])"
      ]
     },
     "execution_count": 270,
     "metadata": {},
     "output_type": "execute_result"
    }
   ],
   "source": [
    "np.linspace(0.001,0.1,100)"
   ]
  },
  {
   "cell_type": "code",
   "execution_count": 335,
   "metadata": {},
   "outputs": [
    {
     "name": "stdout",
     "output_type": "stream",
     "text": [
      "1.4571324937206972e-13\n",
      "8.972013566257001e-135\n",
      "[1.23670089e-14 2.41384697e-14 1.87378442e-14 ... 2.73715456e-14\n",
      " 5.38136132e-14 7.37952336e-14]\n",
      "[0. 0. 0. ... 0. 0. 0.]\n",
      "[5.03927904e-13 4.14869733e-13 3.44525760e-13 2.83702130e-13\n",
      " 2.29911797e-13 1.85587151e-13 1.48649057e-13 1.18253261e-13\n",
      " 9.35029163e-14 7.34583072e-14 5.73608093e-14 4.45548537e-14\n",
      " 3.44237584e-14 2.64586976e-14 2.02393396e-14 1.54086851e-14\n",
      " 1.16745242e-14 8.81265795e-15 6.62051329e-15 4.95067233e-15\n",
      " 3.68549032e-15 2.72754166e-15 2.00766497e-15 1.46903041e-15\n",
      " 1.06743065e-15 7.69725193e-16 5.50596617e-16 3.90168242e-16\n",
      " 2.73410694e-16 1.88902069e-16 1.27887185e-16 8.47887206e-17\n",
      " 5.56099659e-17 3.58903155e-17 2.25838284e-17 1.37880322e-17\n",
      " 8.14570383e-18 4.62618242e-18 2.50500152e-18 1.28652681e-18\n",
      " 6.22245563e-19 2.81314412e-19 1.18728059e-19 4.69659292e-20\n",
      " 1.74854843e-20 6.45514790e-21 2.64432148e-21 1.32832056e-21\n",
      " 7.42395724e-22 0.00000000e+00]\n",
      "(50,)\n"
     ]
    },
    {
     "data": {
      "image/png": "[encoded data removed]",
      "text/plain": [
       "<Figure size 504x432 with 1 Axes>"
      ]
     },
     "metadata": {
      "needs_background": "light"
     },
     "output_type": "display_data"
    }
   ],
   "source": [
    "MakeGammaDMAttPlot(file_galactic_ebl,file_extragalactic_ebl,2*10**6,5)"
   ]
  },
  {
   "cell_type": "code",
   "execution_count": 336,
   "metadata": {},
   "outputs": [
    {
     "name": "stdout",
     "output_type": "stream",
     "text": [
      "1.4571324937206972e-13\n",
      "8.972013566257001e-135\n",
      "[1.45339414e-16 9.47596079e-15 0.00000000e+00 ... 1.23645681e-15\n",
      " 1.66776129e-15 2.96889812e-15]\n",
      "[0. 0. 0. ... 0. 0. 0.]\n",
      "[5.03927904e-13 4.14869733e-13 3.44525760e-13 2.83702130e-13\n",
      " 2.29911797e-13 1.85587151e-13 1.48649057e-13 1.18253261e-13\n",
      " 9.35029163e-14 7.34583072e-14 5.73608093e-14 4.45548537e-14\n",
      " 3.44237584e-14 2.64586976e-14 2.02393396e-14 1.54086851e-14\n",
      " 1.16745242e-14 8.81265795e-15 6.62051329e-15 4.95067233e-15\n",
      " 3.68549032e-15 2.72754166e-15 2.00766497e-15 1.46903041e-15\n",
      " 1.06743065e-15 7.69725193e-16 5.50596617e-16 3.90168242e-16\n",
      " 2.73410694e-16 1.88902069e-16 1.27887185e-16 8.47887206e-17\n",
      " 5.56099659e-17 3.58903155e-17 2.25838284e-17 1.37880322e-17\n",
      " 8.14570383e-18 4.62618242e-18 2.50500152e-18 1.28652681e-18\n",
      " 6.22245563e-19 2.81314412e-19 1.18728059e-19 4.69659292e-20\n",
      " 1.74854843e-20 6.45514790e-21 2.64432148e-21 1.32832056e-21\n",
      " 7.42395724e-22 0.00000000e+00]\n",
      "(50,)\n"
     ]
    },
    {
     "data": {
      "image/png": "[encoded data removed]",
      "text/plain": [
       "<Figure size 504x432 with 1 Axes>"
      ]
     },
     "metadata": {
      "needs_background": "light"
     },
     "output_type": "display_data"
    }
   ],
   "source": [
    "MakeGammaDMAttPlot(file_galactic_cmb,file_extragalactic_cmb,2*10**6,5,False)"
   ]
  },
  {
   "cell_type": "code",
   "execution_count": null,
   "metadata": {},
   "outputs": [],
   "source": []
  },
  {
   "cell_type": "markdown",
   "metadata": {},
   "source": [
    "### CRPropa Histograms"
   ]
  },
  {
   "cell_type": "code",
   "execution_count": 260,
   "metadata": {},
   "outputs": [],
   "source": [
    "def MakePositionPlot(file,irb = True):\n",
    "\n",
    "\n",
    "    if irb == True:\n",
    "        string = \"CMB and IRB\"\n",
    "    else: string = \"CMB Only\"\n",
    "        \n",
    "    photo_positions_initial = np.array([xx[6] for xx in file if xx[2] == 22])\n",
    "    \n",
    "    \n",
    "    # make the figure \n",
    "    \n",
    "    fig = plt.figure(figsize=(7,6))\n",
    "    cm = mpl.pyplot.get_cmap('RdPu')\n",
    "    color_min = 0.1\n",
    "    color_max = 0.9\n",
    "    color_range = color_max-color_min\n",
    "    colors = [cm(color_range*i/(8-1)+color_min) for i in range(8)]\n",
    "    \n",
    "    #plt.hist(x,bins = np.logspace(2,6,300),histtype = \"step\",lw = 2, density = False, color = colors[3],label = r\"Initial Spectrum for $\\gamma =$ {gamma}\".format(gamma = gamma),weights = file_injected)\n",
    "    #plt.hist(x,bins = np.logspace(2,6,300),histtype = \"step\",lw = 2, density = True, color = colors[5],label = r\"Attenuated Spectrum for $\\gamma =$ {gamma}\".format(gamma = gamma),weights = file_attenuated)\n",
    "    #plt.hist(x,bins = np.logspace(1,6,300),histtype = \"step\",lw = 2,density = False,color = colors[7],label = r\"Reweighted DM Spectrum\",weights = (spectrum/(x**(gamma)*np.exp((-x/(10**8)))))*file_attenuated)\n",
    "    plt.hist(photo_positions_initial,\n",
    "             histtype=\"step\", lw = 2, density = False, color = colors[3],label = r\"Positions at source\")\n",
    "    #plt.hist(photo_energies_trajectories, bins = np.logspace(1,3,10),\n",
    "    #         histtype=\"step\", lw = 2, density = True, color = colors[6],label = r\"Original Distribution\")\n",
    "    #plt.hist(x,bins = np.logspace(1,6,300),histtype = \"step\",lw = 2,density = False,color = colors[7],label = r\"Reweighted DM Spectrum\",weights = (spectrum/(x**(gamma)*np.exp((-x/(10**8)))))*file_attenuated)\n",
    "    #plt.hist(x,bins = np.logspace(1,6,300),histtype = \"step\",lw = 2,density = False,color = colors[7],label = r\"Reweighted DM Spectrum\",weights = (spectrum*x**2/(file_injected))*file_attenuated)\n",
    "    #plt.hist(x, bins = np.logspace(1,6,300),histtype=\"step\", lw = 2, density = False,color ='orange',label = r\"Initial DM Spectrum \\par from HDMSpectra\",weights = spectrum)\n",
    "    \n",
    "    plt.legend(bbox_to_anchor=(.90, .95), loc='upper left', borderaxespad=0.,frameon = True,shadow = True)\n",
    "    #plt.ylim(10**21,10**26)\n",
    "    #plt.semilogy()\n",
    "    #plt.semilogx()\n",
    "    #plt.xlim(1e1,1e3)\n",
    "    #plt.ylim(1e-15,1e-6)\n",
    "    #plt.ylim(1e2,1e6)\n",
    "    plt.title(string+r\",Positions at Source (Mpc)\",fontsize = 16)\n",
    "    plt.ylabel(r\"Number of Events\",fontsize = 16)\n",
    "    #plt.title(r\"CMB and IRB, DM Spectrum for $\\chi \\rightarrow$\"+state,fontsize = 20)\n",
    "    plt.savefig(\"/Users/barbaraskrzypek/Documents/DMPositions){irb}.pdf\".format(irb = irb),dpi = 400,bbox_inches = \"tight\")\n",
    "    \n",
    "    #return rw"
   ]
  },
  {
   "cell_type": "code",
   "execution_count": 289,
   "metadata": {},
   "outputs": [
    {
     "data": {
      "image/png": "[encoded data removed]",
      "text/plain": [
       "<Figure size 504x432 with 1 Axes>"
      ]
     },
     "metadata": {
      "needs_background": "light"
     },
     "output_type": "display_data"
    }
   ],
   "source": [
    "MakePositionPlot(file_galactic_ebl,True)"
   ]
  },
  {
   "cell_type": "code",
   "execution_count": 262,
   "metadata": {},
   "outputs": [
    {
     "data": {
      "image/png": "[encoded data removed]",
      "text/plain": [
       "<Figure size 504x432 with 1 Axes>"
      ]
     },
     "metadata": {
      "needs_background": "light"
     },
     "output_type": "display_data"
    }
   ],
   "source": [
    "MakePositionPlot(file_galactic_cmb,False)"
   ]
  },
  {
   "cell_type": "code",
   "execution_count": 316,
   "metadata": {},
   "outputs": [
    {
     "data": {
      "image/png": "[encoded data removed]",
      "text/plain": [
       "<Figure size 504x432 with 1 Axes>"
      ]
     },
     "metadata": {
      "needs_background": "light"
     },
     "output_type": "display_data"
    }
   ],
   "source": [
    "MakePositionPlot(file_extragalactic_cmb,False)"
   ]
  },
  {
   "cell_type": "code",
   "execution_count": 291,
   "metadata": {},
   "outputs": [
    {
     "data": {
      "image/png": "[encoded data removed]",
      "text/plain": [
       "<Figure size 504x432 with 1 Axes>"
      ]
     },
     "metadata": {
      "needs_background": "light"
     },
     "output_type": "display_data"
    }
   ],
   "source": [
    "MakePositionPlot(file_extragalactic_ebl,True)"
   ]
  },
  {
   "cell_type": "code",
   "execution_count": null,
   "metadata": {},
   "outputs": [],
   "source": []
  }
 ],
 "metadata": {
  "kernelspec": {
   "display_name": "Python 3",
   "language": "python",
   "name": "python3"
  },
  "language_info": {
   "codemirror_mode": {
    "name": "ipython",
    "version": 3
   },
   "file_extension": ".py",
   "mimetype": "text/x-python",
   "name": "python",
   "nbconvert_exporter": "python",
   "pygments_lexer": "ipython3",
   "version": "3.8.5"
  }
 },
 "nbformat": 4,
 "nbformat_minor": 4
}
